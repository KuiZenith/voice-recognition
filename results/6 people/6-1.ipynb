{
 "cells": [
  {
   "cell_type": "code",
   "execution_count": 2,
   "metadata": {},
   "outputs": [],
   "source": [
    "import torch\n",
    "import torch.nn as nn\n",
    "import torch.optim as optim\n",
    "\n",
    "from torch.utils.data import Dataset, DataLoader\n",
    "\n",
    "import os\n",
    "import re\n",
    "import json\n",
    "import random\n",
    "import numpy as np\n",
    "import matplotlib.pyplot as plt\n",
    "\n",
    "from tqdm.notebook import tqdm\n",
    "from pprint import pprint\n",
    "from IPython.display import Audio\n",
    "from scipy.io import wavfile\n",
    "\n",
    "from bark.bark import SAMPLE_RATE, generate_audio, preload_models"
   ]
  },
  {
   "cell_type": "code",
   "execution_count": 3,
   "metadata": {},
   "outputs": [],
   "source": [
    "def save_history(basepath: str, audio_array: np.ndarray, prompt: str, generation_data: list):\n",
    "  np.savez(f\"{basepath}.npz\", semantic_prompt=generation_data[0], coarse_prompt=generation_data[1], fine_prompt=generation_data[2])\n",
    "  with open(f\"{basepath}.txt\", \"w\", encoding=\"utf-8\") as fp: fp.write(prompt)\n",
    "  wavfile.write(f\"{basepath}.wav\", SAMPLE_RATE, audio_array)\n",
    "\n",
    "def load_history(filepath: str):\n",
    "  return np.load(filepath)\n",
    "\n",
    "def load_voice(filepath: str):\n",
    "  sample_rate, audio_array = wavfile.read(filepath)\n",
    "  return audio_array"
   ]
  },
  {
   "cell_type": "code",
   "execution_count": 4,
   "metadata": {},
   "outputs": [],
   "source": [
    "NUM_EPOCHS = 1\n",
    "NUM_STEPS = 10000\n",
    "\n",
    "BATCH_SIZE = 4\n",
    "\n",
    "DURATION = 3000\n",
    "\n",
    "EMBEDDING_DIM = int(DURATION * SAMPLE_RATE / 1000)"
   ]
  },
  {
   "cell_type": "code",
   "execution_count": 5,
   "metadata": {},
   "outputs": [],
   "source": [
    "class VoiceDataset(Dataset):\n",
    "  def __init__(self, directory, embedding_dim = EMBEDDING_DIM):\n",
    "    super().__init__()\n",
    "    self.k = 1\n",
    "    self.population = 0\n",
    "    self.length = 0\n",
    "    self.embedding_dim = embedding_dim\n",
    "    self.voices = []\n",
    "    self.base_map = {}\n",
    "    for filename in os.listdir(directory):\n",
    "      if not filename.endswith(\".wav\"): continue\n",
    "      self.voices.append([])\n",
    "      self.population += 1\n",
    "      folder_name = filename.split(\".wav\")[0]\n",
    "      self.base_map[folder_name] = self.population\n",
    "      for fn in os.listdir(f\"./data/bark/{folder_name}\"):\n",
    "        if not fn.endswith(\".wav\"): continue\n",
    "        self.voices[-1].append(load_voice(f\"./data/bark/{folder_name}/{fn}\"))\n",
    "        self.length += 1\n",
    "\n",
    "  def __getitem__(self, _):\n",
    "    samples, targets, labels = [], [], torch.zeros(len(self.voices))\n",
    "    r_index = random.randint(0, len(self.voices) - 1)\n",
    "    labels[r_index] = 1\n",
    "    for person in self.voices:\n",
    "      for s in random.choices(person, k=self.k):\n",
    "        r = random.randint(0, len(s) - self.embedding_dim)\n",
    "        samples.append(s[r:r + self.embedding_dim])\n",
    "      for t in random.choices(self.voices[r_index], k=self.k):\n",
    "        r = random.randint(0, len(t) - self.embedding_dim)\n",
    "        targets.append(t[r:r + self.embedding_dim])\n",
    "    samples = torch.tensor(np.concatenate(samples)).view(len(self.voices) * self.k, -1).float()\n",
    "    targets = torch.tensor(np.concatenate(targets)).view(len(self.voices) * self.k, -1).float()\n",
    "    return samples, targets, labels\n",
    "\n",
    "  def get_selected(self, target):\n",
    "    samples, targets = [], []\n",
    "    for person in self.voices:\n",
    "      for s in random.choices(person, k=self.k):\n",
    "        r = random.randint(0, len(s) - self.embedding_dim)\n",
    "        samples.append(s[r:r + self.embedding_dim])\n",
    "        r = random.randint(0, len(target) - self.embedding_dim)\n",
    "        targets.append(target[r:r + self.embedding_dim])\n",
    "    samples = torch.tensor(np.concatenate(samples)).view(len(self.voices) * self.k, -1).float()\n",
    "    targets = torch.tensor(np.concatenate(targets)).view(len(self.voices) * self.k, -1).float()\n",
    "    return samples, targets\n",
    "\n",
    "  def __len__(self): return self.length"
   ]
  },
  {
   "cell_type": "code",
   "execution_count": 6,
   "metadata": {},
   "outputs": [],
   "source": [
    "dataset = VoiceDataset(\"./data/bark2\")\n",
    "torch.save(dataset, \"./checkpoints/bark_dataset.pt\")"
   ]
  },
  {
   "cell_type": "code",
   "execution_count": 7,
   "metadata": {},
   "outputs": [],
   "source": [
    "dataset = torch.load(\"./checkpoints/bark_dataset.pt\")\n",
    "dataloader = DataLoader(dataset, batch_size=BATCH_SIZE)"
   ]
  },
  {
   "cell_type": "code",
   "execution_count": 8,
   "metadata": {},
   "outputs": [],
   "source": [
    "class Judge(nn.Module):\n",
    "  def __init__(self, k):\n",
    "    super().__init__()\n",
    "    self.k = k\n",
    "    self.seq1 = nn.Sequential(\n",
    "      nn.Conv1d(1, 64, int(0.025 * SAMPLE_RATE), int(0.01 * SAMPLE_RATE)),\n",
    "      nn.BatchNorm1d(64),\n",
    "      nn.MaxPool1d(4),\n",
    "      nn.ReLU(True),\n",
    "      nn.Conv1d(64, 128, 4),\n",
    "      nn.BatchNorm1d(128),\n",
    "      nn.MaxPool1d(2),\n",
    "      nn.ReLU(True),\n",
    "      nn.Conv1d(128, 256, 4),\n",
    "      nn.BatchNorm1d(256),\n",
    "      nn.MaxPool1d(2),\n",
    "      nn.ReLU(True)\n",
    "    )\n",
    "    self.gru = nn.LSTM(256, 256, 1, batch_first=True, bidirectional=True)\n",
    "    self.seq2 = nn.Sequential(\n",
    "      nn.ReLU(),\n",
    "      nn.Flatten(),\n",
    "      nn.Dropout(0.3)\n",
    "    )\n",
    "    self.seq3 = nn.Sequential(\n",
    "      nn.Linear(256 * 64, 1024),\n",
    "      nn.ReLU(True),\n",
    "      nn.Dropout(0.2),\n",
    "      nn.Linear(1024, 256),\n",
    "      nn.ReLU(True),\n",
    "      nn.Dropout(0.1),\n",
    "      nn.Linear(256, 64),\n",
    "      nn.ReLU(True),\n",
    "      nn.Linear(64, 1),\n",
    "      nn.Sigmoid(),\n",
    "    )\n",
    "\n",
    "  def forward(self, sample, target):\n",
    "    outputs1 = self.seq1(sample.view(-1, 1, sample.size(1)))\n",
    "    outputs2 = self.seq1(target.view(-1, 1, target.size(1)))\n",
    "    outputs1, _ = self.gru(outputs1.permute(0, 2, 1))\n",
    "    outputs2, _ = self.gru(outputs2.permute(0, 2, 1))\n",
    "    outputs1 = self.seq2(outputs1)\n",
    "    outputs2 = self.seq2(outputs2)\n",
    "    outputs = self.seq3(torch.cat((outputs1, outputs2), dim=1))\n",
    "    outputs = torch.cat([outputs[i:i + self.k, :] for i in range(0, outputs.size(0), self.k)], dim=1).sum(0)\n",
    "    return outputs\n",
    "\n",
    "class Model(nn.Module):\n",
    "  def __init__(self, k = 1):\n",
    "    super().__init__()\n",
    "    self.k = k\n",
    "    self.judge = Judge(self.k)\n",
    "    self.softmax = nn.Softmax(dim=1)\n",
    "\n",
    "  def forward(self, samples, targets):\n",
    "    outputs = []\n",
    "    for s, t in zip(samples, targets): outputs.append(self.judge(s, t).unsqueeze(1))\n",
    "    outputs = torch.cat(tuple(outputs), dim=1).permute(1, 0)\n",
    "    outputs = self.softmax(outputs)\n",
    "    return outputs"
   ]
  },
  {
   "cell_type": "code",
   "execution_count": 9,
   "metadata": {},
   "outputs": [
    {
     "name": "stdout",
     "output_type": "stream",
     "text": [
      "torch.Size([4, 6, 72000]) torch.Size([4, 6, 72000])\n",
      "tensor([[0.1668, 0.1666, 0.1663, 0.1666, 0.1669, 0.1668],\n",
      "        [0.1665, 0.1667, 0.1667, 0.1667, 0.1667, 0.1668],\n",
      "        [0.1668, 0.1666, 0.1663, 0.1666, 0.1670, 0.1666],\n",
      "        [0.1667, 0.1667, 0.1666, 0.1669, 0.1666, 0.1666]],\n",
      "       grad_fn=<SoftmaxBackward0>)\n",
      "tensor([[0., 0., 0., 0., 1., 0.],\n",
      "        [1., 0., 0., 0., 0., 0.],\n",
      "        [0., 1., 0., 0., 0., 0.],\n",
      "        [0., 1., 0., 0., 0., 0.]])\n",
      "tensor(1.7918, grad_fn=<DivBackward1>)\n"
     ]
    }
   ],
   "source": [
    "samples, targets, labels = next(iter(dataloader))\n",
    "model = Model(dataset.k)\n",
    "loss_fn = nn.CrossEntropyLoss()\n",
    "outputs = model(samples, targets)\n",
    "print(samples.shape, targets.shape)\n",
    "print(outputs)\n",
    "print(labels)\n",
    "print(loss_fn(outputs, labels))"
   ]
  },
  {
   "cell_type": "code",
   "execution_count": 10,
   "metadata": {},
   "outputs": [
    {
     "name": "stdout",
     "output_type": "stream",
     "text": [
      "100/10000:\t1.7918\n",
      "200/10000:\t1.7918\n",
      "300/10000:\t1.7918\n",
      "400/10000:\t1.7917\n",
      "500/10000:\t1.7918\n",
      "600/10000:\t1.7917\n",
      "700/10000:\t1.7919\n",
      "800/10000:\t1.7916\n",
      "900/10000:\t1.7918\n",
      "1000/10000:\t1.7918\n",
      "1100/10000:\t1.7918\n",
      "1200/10000:\t1.7915\n",
      "1300/10000:\t1.7915\n",
      "1400/10000:\t1.7913\n",
      "1500/10000:\t1.7899\n",
      "1600/10000:\t1.7683\n",
      "1700/10000:\t1.7380\n",
      "1800/10000:\t1.7303\n",
      "1900/10000:\t1.7294\n",
      "2000/10000:\t1.7314\n",
      "2100/10000:\t1.7270\n",
      "2200/10000:\t1.7270\n",
      "2300/10000:\t1.7291\n",
      "2400/10000:\t1.7293\n",
      "2500/10000:\t1.7299\n",
      "2600/10000:\t1.7263\n",
      "2700/10000:\t1.7237\n",
      "2800/10000:\t1.7377\n",
      "2900/10000:\t1.7308\n",
      "3000/10000:\t1.7266\n",
      "3100/10000:\t1.7255\n",
      "3200/10000:\t1.7254\n",
      "3300/10000:\t1.7318\n",
      "3400/10000:\t1.7242\n",
      "3500/10000:\t1.7248\n",
      "3600/10000:\t1.7235\n",
      "3700/10000:\t1.7270\n",
      "3800/10000:\t1.7232\n",
      "3900/10000:\t1.7222\n",
      "4000/10000:\t1.7220\n",
      "4100/10000:\t1.7209\n",
      "4200/10000:\t1.7125\n",
      "4300/10000:\t1.7152\n",
      "4400/10000:\t1.7091\n",
      "4500/10000:\t1.7111\n",
      "4600/10000:\t1.7040\n",
      "4700/10000:\t1.7030\n",
      "4800/10000:\t1.7031\n",
      "4900/10000:\t1.7036\n",
      "5000/10000:\t1.6966\n",
      "5100/10000:\t1.6975\n",
      "5200/10000:\t1.6965\n",
      "5300/10000:\t1.6931\n",
      "5400/10000:\t1.6847\n",
      "5500/10000:\t1.6932\n",
      "5600/10000:\t1.6932\n",
      "5700/10000:\t1.6881\n",
      "5800/10000:\t1.6872\n",
      "5900/10000:\t1.6869\n",
      "6000/10000:\t1.6807\n",
      "6100/10000:\t1.6910\n",
      "6200/10000:\t1.6858\n",
      "6300/10000:\t1.6814\n",
      "6400/10000:\t1.6890\n",
      "6500/10000:\t1.6840\n",
      "6600/10000:\t1.6836\n",
      "6700/10000:\t1.6839\n",
      "6800/10000:\t1.6844\n",
      "6900/10000:\t1.6747\n",
      "7000/10000:\t1.6735\n",
      "7100/10000:\t1.6771\n",
      "7200/10000:\t1.6724\n",
      "7300/10000:\t1.6796\n",
      "7400/10000:\t1.6744\n",
      "7500/10000:\t1.6753\n",
      "7600/10000:\t1.6698\n",
      "7700/10000:\t1.6703\n",
      "7800/10000:\t1.6653\n",
      "7900/10000:\t1.6676\n",
      "8000/10000:\t1.6636\n",
      "8100/10000:\t1.6639\n",
      "8200/10000:\t1.6637\n",
      "8300/10000:\t1.6656\n",
      "8400/10000:\t1.6657\n",
      "8500/10000:\t1.6712\n",
      "8600/10000:\t1.6577\n",
      "8700/10000:\t1.6543\n",
      "8800/10000:\t1.6578\n",
      "8900/10000:\t1.6589\n",
      "9000/10000:\t1.6563\n",
      "9100/10000:\t1.6587\n",
      "9200/10000:\t1.6553\n",
      "9300/10000:\t1.6548\n",
      "9400/10000:\t1.6637\n",
      "9500/10000:\t1.6512\n",
      "9600/10000:\t1.6466\n",
      "9700/10000:\t1.6516\n",
      "9800/10000:\t1.6532\n",
      "9900/10000:\t1.6507\n",
      "10000/10000:\t1.6522\n",
      "Training Ended!\n"
     ]
    }
   ],
   "source": [
    "torch.backends.cudnn.benchmark = True\n",
    "device = \"cuda\" if torch.cuda.is_available() else \"cpu\"\n",
    "\n",
    "model = Model(dataset.k)\n",
    "optimizer = optim.Adam(model.parameters(), lr=3e-5)\n",
    "loss_fn = nn.CrossEntropyLoss()\n",
    "losses = []\n",
    "\n",
    "model.train()\n",
    "\n",
    "if device == \"cuda\": model.cuda()\n",
    "for step in range(1, NUM_STEPS + 1):\n",
    "  optimizer.zero_grad()\n",
    "  samples, targets, labels = next(iter(dataloader))\n",
    "  outputs = model(samples.to(device), targets.to(device))\n",
    "  loss = loss_fn(outputs.to(device), labels.to(device))\n",
    "  losses.append(loss.item())\n",
    "  loss.backward()\n",
    "  optimizer.step()\n",
    "  if step % 100 == 0:\n",
    "    print(f\"{step}/{NUM_STEPS}:\\t{np.mean(losses):.4f}\")\n",
    "    losses = []\n",
    "print(\"Training Ended!\")"
   ]
  },
  {
   "cell_type": "code",
   "execution_count": null,
   "metadata": {},
   "outputs": [],
   "source": [
    "with torch.no_grad():\n",
    "  t = load_voice(\"./data/bark/man-2.wav\")\n",
    "  samples, targets = dataset.get_selected(t)\n",
    "  outputs = model(samples.to(device).unsqueeze(0), targets.to(device).unsqueeze(0))\n",
    "  print(np.round(outputs.cpu().numpy(), 3))\n",
    "  print(outputs.cpu().numpy().argmax() + 1)\n",
    "  pprint(dataset.base_map)\n",
    "  display(Audio(samples[0], rate=SAMPLE_RATE))\n",
    "  display(Audio(targets[0], rate=SAMPLE_RATE))\n",
    "  display(Audio(samples[1], rate=SAMPLE_RATE))\n",
    "  display(Audio(targets[1], rate=SAMPLE_RATE))\n",
    "  # display(Audio(samples[2], rate=SAMPLE_RATE))\n",
    "  # display(Audio(targets[2], rate=SAMPLE_RATE))"
   ]
  },
  {
   "cell_type": "code",
   "execution_count": 11,
   "metadata": {},
   "outputs": [
    {
     "name": "stdout",
     "output_type": "stream",
     "text": [
      "6\n"
     ]
    },
    {
     "name": "stderr",
     "output_type": "stream",
     "text": [
      "100%|██████████| 1000/1000 [00:09<00:00, 100.73it/s]\n"
     ]
    },
    {
     "data": {
      "text/plain": [
       "array([[0.31235581, 0.12412785, 0.18997531, 0.12266066, 0.12806546,\n",
       "        0.12281492]])"
      ]
     },
     "metadata": {},
     "output_type": "display_data"
    },
    {
     "data": {
      "text/plain": [
       "array([841.,   3., 150.,   0.,   6.,   0.])"
      ]
     },
     "metadata": {},
     "output_type": "display_data"
    },
    {
     "data": {
      "image/png": "[encoded data removed]",
      "text/plain": [
       "<Figure size 640x480 with 1 Axes>"
      ]
     },
     "metadata": {},
     "output_type": "display_data"
    },
    {
     "name": "stderr",
     "output_type": "stream",
     "text": [
      "100%|██████████| 1000/1000 [00:09<00:00, 101.53it/s]\n"
     ]
    },
    {
     "data": {
      "text/plain": [
       "array([[0.12154142, 0.32462451, 0.18956741, 0.12142222, 0.12142222,\n",
       "        0.12142222]])"
      ]
     },
     "metadata": {},
     "output_type": "display_data"
    },
    {
     "data": {
      "text/plain": [
       "array([  0., 943.,  57.,   0.,   0.,   0.])"
      ]
     },
     "metadata": {},
     "output_type": "display_data"
    },
    {
     "data": {
      "image/png": "[encoded data removed]",
      "text/plain": [
       "<Figure size 640x480 with 1 Axes>"
      ]
     },
     "metadata": {},
     "output_type": "display_data"
    },
    {
     "name": "stderr",
     "output_type": "stream",
     "text": [
      "100%|██████████| 1000/1000 [00:10<00:00, 99.34it/s]\n"
     ]
    },
    {
     "data": {
      "text/plain": [
       "array([[0.18352684, 0.1575855 , 0.3051818 , 0.11787448, 0.11795687,\n",
       "        0.11787451]])"
      ]
     },
     "metadata": {},
     "output_type": "display_data"
    },
    {
     "data": {
      "text/plain": [
       "array([108.,  74., 817.,   0.,   1.,   0.])"
      ]
     },
     "metadata": {},
     "output_type": "display_data"
    },
    {
     "data": {
      "image/png": "[encoded data removed]",
      "text/plain": [
       "<Figure size 640x480 with 1 Axes>"
      ]
     },
     "metadata": {},
     "output_type": "display_data"
    },
    {
     "name": "stderr",
     "output_type": "stream",
     "text": [
      "100%|██████████| 1000/1000 [00:09<00:00, 103.94it/s]\n"
     ]
    },
    {
     "data": {
      "text/plain": [
       "array([[0.12912187, 0.12806505, 0.12806505, 0.31232434, 0.13447433,\n",
       "        0.16794935]])"
      ]
     },
     "metadata": {},
     "output_type": "display_data"
    },
    {
     "data": {
      "text/plain": [
       "array([  2.,   0.,   0., 855.,  20., 123.])"
      ]
     },
     "metadata": {},
     "output_type": "display_data"
    },
    {
     "data": {
      "image/png": "[encoded data removed]",
      "text/plain": [
       "<Figure size 640x480 with 1 Axes>"
      ]
     },
     "metadata": {},
     "output_type": "display_data"
    },
    {
     "name": "stderr",
     "output_type": "stream",
     "text": [
      "100%|██████████| 1000/1000 [00:09<00:00, 100.91it/s]\n"
     ]
    },
    {
     "data": {
      "text/plain": [
       "array([[0.16093375, 0.11084652, 0.11269597, 0.11659742, 0.29098434,\n",
       "        0.207942  ]])"
      ]
     },
     "metadata": {},
     "output_type": "display_data"
    },
    {
     "data": {
      "text/plain": [
       "array([ 62.,   0.,   2.,  15., 794., 127.])"
      ]
     },
     "metadata": {},
     "output_type": "display_data"
    },
    {
     "data": {
      "image/png": "[encoded data removed]",
      "text/plain": [
       "<Figure size 640x480 with 1 Axes>"
      ]
     },
     "metadata": {},
     "output_type": "display_data"
    },
    {
     "name": "stderr",
     "output_type": "stream",
     "text": [
      "100%|██████████| 1000/1000 [00:10<00:00, 95.84it/s]\n"
     ]
    },
    {
     "data": {
      "text/plain": [
       "array([[0.12202514, 0.12057111, 0.12112552, 0.15492145, 0.17471067,\n",
       "        0.30664612]])"
      ]
     },
     "metadata": {},
     "output_type": "display_data"
    },
    {
     "data": {
      "text/plain": [
       "array([  5.,   0.,   1.,  56.,  77., 861.])"
      ]
     },
     "metadata": {},
     "output_type": "display_data"
    },
    {
     "data": {
      "image/png": "[encoded data removed]",
      "text/plain": [
       "<Figure size 640x480 with 1 Axes>"
      ]
     },
     "metadata": {},
     "output_type": "display_data"
    }
   ],
   "source": [
    "num_validation = 1000\n",
    "#test_cases = [\"man-1\", \"man-2\", \"man-3\", \"man-4\", \"man-5\", \"woman-1\", \"woman-2\", \"woman-3\", \"woman-4\", \"woman-5\"]\n",
    "test_cases = [\"man-1\", \"man-2\", \"man-3\", \"woman-1\", \"woman-2\", \"woman-3\"]\n",
    "from tqdm import tqdm\n",
    "print(len(dataset.voices))\n",
    "with torch.no_grad():\n",
    "  for test_index in range(len(dataset.voices)):\n",
    "    colors = [\"b\" if i != test_index else \"r\" for i in range(len(dataset.voices))]\n",
    "    avg = np.zeros((1, len(dataset.voices)))\n",
    "    occurrences = np.zeros(len(dataset.voices))\n",
    "    for i in tqdm(range(num_validation)):\n",
    "      t = load_voice(f\"./data/bark/{test_cases[test_index]}.wav\")\n",
    "      samples, targets = dataset.get_selected(t)\n",
    "      outputs = model(samples.to(device).unsqueeze(0), targets.to(device).unsqueeze(0))\n",
    "      avg += outputs.cpu().numpy()\n",
    "      occurrences[outputs.cpu().numpy().argmax()] += 1\n",
    "    display(avg / num_validation)\n",
    "    display(occurrences)\n",
    "    plt.bar(np.arange(len(dataset.voices)), occurrences, color=colors)\n",
    "    plt.xticks(range(len(dataset.voices)))\n",
    "    plt.xlabel(\"test_index\")\n",
    "    plt.ylabel(\"occurrence\")\n",
    "    plt.show()\n",
    "  # display(Audio(samples[0], rate=SAMPLE_RATE))\n",
    "  # display(Audio(targets[0], rate=SAMPLE_RATE))\n",
    "  # display(Audio(samples[1], rate=SAMPLE_RATE))\n",
    "  # display(Audio(targets[1], rate=SAMPLE_RATE))\n",
    "  # display(Audio(samples[2], rate=SAMPLE_RATE))\n",
    "  # display(Audio(targets[2], rate=SAMPLE_RATE))"
   ]
  },
  {
   "cell_type": "code",
   "execution_count": null,
   "metadata": {},
   "outputs": [],
   "source": [
    "torch.save(model,\"./checkpoints/model.pt\")"
   ]
  },
  {
   "cell_type": "code",
   "execution_count": null,
   "metadata": {},
   "outputs": [],
   "source": [
    "preload_models(use_smaller_models=True)"
   ]
  },
  {
   "cell_type": "code",
   "execution_count": null,
   "metadata": {},
   "outputs": [],
   "source": [
    "def generate(basename, raw_prompt, index):\n",
    "  basepath = \"./data/bark/\"\n",
    "  text_prompt = re.sub(r\"\\s\\s+\", \" \", re.sub(r\"[\\t\\n]\", \"\", raw_prompt)).strip()\n",
    "  print(f\"{basename}: prompt-{index}\")\n",
    "  audio_array, generation_data = generate_audio(text_prompt, basename)\n",
    "  if basename not in os.listdir(basepath): os.mkdir(f\"{basepath}/{basename}\")\n",
    "  save_history(f\"{basepath}/{basename}/prompt-{index}\", audio_array, text_prompt, generation_data)"
   ]
  },
  {
   "cell_type": "code",
   "execution_count": null,
   "metadata": {},
   "outputs": [],
   "source": [
    "with open(\"./prompts.json\") as fp: raw_prompts = json.load(fp)\n",
    "len(raw_prompts)"
   ]
  },
  {
   "cell_type": "code",
   "execution_count": null,
   "metadata": {},
   "outputs": [],
   "source": [
    "prompt = \"Bark was developed for research purposes. It is not a conventional text-to-speech model but instead a fully generative text-to-audio model, which can deviate in unexpected ways from provided prompts.\"\n",
    "audio_array, generation_data = generate_audio(prompt)\n",
    "Audio(audio_array, rate=SAMPLE_RATE)"
   ]
  },
  {
   "cell_type": "code",
   "execution_count": null,
   "metadata": {},
   "outputs": [],
   "source": [
    "save_history(\"./data/bark/woman-4\", audio_array, prompt, generation_data)"
   ]
  }
 ],
 "metadata": {
  "kernelspec": {
   "display_name": ".venv",
   "language": "python",
   "name": "python3"
  },
  "language_info": {
   "codemirror_mode": {
    "name": "ipython",
    "version": 3
   },
   "file_extension": ".py",
   "mimetype": "text/x-python",
   "name": "python",
   "nbconvert_exporter": "python",
   "pygments_lexer": "ipython3",
   "version": "3.10.8"
  },
  "orig_nbformat": 4
 },
 "nbformat": 4,
 "nbformat_minor": 2
}
