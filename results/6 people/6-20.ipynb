{
 "cells": [
  {
   "cell_type": "code",
   "execution_count": 1,
   "metadata": {},
   "outputs": [],
   "source": [
    "import torch\n",
    "import torchaudio\n",
    "import torch.nn as nn\n",
    "import torch.optim as optim\n",
    "import torch.nn.functional as F\n",
    "\n",
    "from torch.utils.data import Dataset, DataLoader\n",
    "from torchaudio.transforms import MelSpectrogram\n",
    "\n",
    "import os\n",
    "import re\n",
    "import random\n",
    "import numpy as np\n",
    "import matplotlib.pyplot as plt\n",
    "\n",
    "from tqdm.notebook import tqdm\n",
    "from pprint import pprint\n",
    "from IPython.display import Audio\n",
    "from scipy.io import wavfile\n",
    "\n",
    "from bark.bark import SAMPLE_RATE, generate_audio, preload_models"
   ]
  },
  {
   "cell_type": "code",
   "execution_count": 2,
   "metadata": {},
   "outputs": [],
   "source": [
    "def save_history(basepath: str, audio_array: np.ndarray, prompt: str, generation_data: list):\n",
    "  np.savez(f\"{basepath}.npz\", semantic_prompt=generation_data[0], coarse_prompt=generation_data[1], fine_prompt=generation_data[2])\n",
    "  with open(f\"{basepath}.txt\", \"w\", encoding=\"utf-8\") as fp: fp.write(prompt)\n",
    "  wavfile.write(f\"{basepath}.wav\", SAMPLE_RATE, audio_array)\n",
    "\n",
    "def load_history(filepath: str):\n",
    "  return np.load(filepath)\n",
    "\n",
    "def load_voice(filepath: str):\n",
    "  sample_rate, audio_array = wavfile.read(filepath)\n",
    "  return audio_array\n",
    "\n",
    "def display_spectrogram(audio_array: np.ndarray):\n",
    "  plt.specgram(audio_array, NFFT=400, Fs=SAMPLE_RATE)\n",
    "  plt.show()"
   ]
  },
  {
   "cell_type": "code",
   "execution_count": 3,
   "metadata": {},
   "outputs": [],
   "source": [
    "NUM_EPOCHS = 1\n",
    "NUM_STEPS = 10000\n",
    "\n",
    "BATCH_SIZE = 4\n",
    "\n",
    "DURATION = 3000\n",
    "SHIFT = 10\n",
    "\n",
    "EMBEDDING_DIM = int(DURATION * SAMPLE_RATE / 1000)"
   ]
  },
  {
   "cell_type": "code",
   "execution_count": 4,
   "metadata": {},
   "outputs": [],
   "source": [
    "class VoiceDataset(Dataset):\n",
    "  def __init__(self, directory, embedding_dim = EMBEDDING_DIM):\n",
    "    super().__init__()\n",
    "    self.k = 1\n",
    "    self.num_mels = 64\n",
    "    self.population = 0\n",
    "    self.length = 0\n",
    "    self.embedding_dim = embedding_dim\n",
    "    self.voices = []\n",
    "    self.base_map = {}\n",
    "    self.ms = MelSpectrogram(SAMPLE_RATE, n_mels=self.num_mels)\n",
    "    for filename in os.listdir(directory):\n",
    "      if not filename.endswith(\".wav\"): continue\n",
    "      self.voices.append([])\n",
    "      self.population += 1\n",
    "      folder_name = filename.split(\".wav\")[0]\n",
    "      self.base_map[folder_name] = self.population\n",
    "      for fn in os.listdir(f\"./data/bark4/{folder_name}\"):\n",
    "        if not fn.endswith(\".wav\"): continue\n",
    "        waveform, sample_rate = torchaudio.load(f\"./data/bark4/{folder_name}/{fn}\")\n",
    "        self.voices[-1].append(waveform.view(-1, 1))\n",
    "        self.length += 1\n",
    "\n",
    "  def __getitem__(self, _):\n",
    "    samples, targets, labels = [], [], torch.zeros(len(self.voices) * self.k)\n",
    "    r_index = random.randint(0, len(self.voices) - 1)\n",
    "    labels[r_index] = 1\n",
    "    for person in self.voices:\n",
    "      for s in random.choices(person, k=self.k):\n",
    "        r = random.randint(0, len(s) - self.embedding_dim)\n",
    "        samples.append(self.ms(s[r:r + self.embedding_dim].view(1, -1)).numpy())\n",
    "      for t in random.choices(self.voices[r_index], k=self.k):\n",
    "        r = random.randint(0, len(t) - self.embedding_dim)\n",
    "        targets.append(self.ms(t[r:r + self.embedding_dim].view(1, -1)).numpy())\n",
    "    samples = torch.tensor(np.concatenate(samples)).view(len(self.voices) * self.k, self.num_mels, -1).float()\n",
    "    targets = torch.tensor(np.concatenate(targets)).view(len(self.voices) * self.k, self.num_mels, -1).float()\n",
    "    return samples, targets, labels\n",
    "\n",
    "  def get_selected(self, target):\n",
    "    samples, targets = [], []\n",
    "    for person in self.voices:\n",
    "      for s in random.choices(person, k=self.k):\n",
    "        r = random.randint(0, len(s) - self.embedding_dim)\n",
    "        samples.append(self.ms(s[r:r + self.embedding_dim].view(1, -1)).numpy())\n",
    "        r = random.randint(0, len(target) - self.embedding_dim)\n",
    "        targets.append(self.ms(torch.tensor(target[r:r + self.embedding_dim].view(1, -1)).float()).numpy())\n",
    "    samples = torch.tensor(np.concatenate(samples)).view(len(self.voices) * self.k, self.num_mels, -1).float()\n",
    "    targets = torch.tensor(np.concatenate(targets)).view(len(self.voices) * self.k, self.num_mels, -1).float()\n",
    "    return samples, targets\n",
    "\n",
    "  def __len__(self): return self.length"
   ]
  },
  {
   "cell_type": "code",
   "execution_count": 6,
   "metadata": {},
   "outputs": [],
   "source": [
    "dataset = VoiceDataset(\"./data/bark4\")\n",
    "torch.save(dataset, \"./checkpoints/bark_dataset.pt\")"
   ]
  },
  {
   "cell_type": "code",
   "execution_count": 7,
   "metadata": {},
   "outputs": [],
   "source": [
    "dataset = torch.load(\"./checkpoints/bark_dataset.pt\")\n",
    "dataloader = DataLoader(dataset, batch_size=BATCH_SIZE, drop_last=True)"
   ]
  },
  {
   "cell_type": "code",
   "execution_count": 8,
   "metadata": {},
   "outputs": [],
   "source": [
    "class Judge(nn.Module):\n",
    "  def __init__(self):\n",
    "    super().__init__()\n",
    "    self.seq1 = nn.Sequential(\n",
    "      nn.Conv2d(1, 64, 4, 2, 1),\n",
    "      nn.BatchNorm2d(64),\n",
    "      nn.MaxPool2d(4),\n",
    "      nn.ReLU(True),\n",
    "      nn.Conv2d(64, 128, 2),\n",
    "      nn.BatchNorm2d(128),\n",
    "      nn.MaxPool2d(2),\n",
    "      nn.ReLU(True),\n",
    "      nn.Conv2d(128, 256, 2),\n",
    "      nn.BatchNorm2d(256),\n",
    "      nn.MaxPool2d(2),\n",
    "      nn.ReLU(True)\n",
    "    )\n",
    "    self.lstm = nn.LSTM(256, 256, 1, batch_first=True, bidirectional=True)\n",
    "    self.seq2 = nn.Sequential(\n",
    "      nn.ReLU(),\n",
    "      nn.Flatten(),\n",
    "      nn.Dropout(0.3)\n",
    "    )\n",
    "    self.seq3 = nn.Sequential(\n",
    "      nn.Linear(256 * 40, 256),\n",
    "      nn.ReLU(True),\n",
    "      nn.Linear(256, 64),\n",
    "      nn.ReLU(True),\n",
    "      nn.Linear(64, 1),\n",
    "      nn.Sigmoid(),\n",
    "    )\n",
    "\n",
    "  def forward(self, sample, target):\n",
    "    outputs1 = self.seq1(sample.view(sample.size(0), 1, sample.size(1), sample.size(2)))\n",
    "    outputs2 = self.seq1(target.view(sample.size(0), 1, sample.size(1), sample.size(2)))\n",
    "    outputs1, _ = self.lstm(outputs1.squeeze(2).permute(0, 2, 1))\n",
    "    outputs2, _ = self.lstm(outputs2.squeeze(2).permute(0, 2, 1))\n",
    "    outputs1 = self.seq2(outputs1)\n",
    "    outputs2 = self.seq2(outputs2)\n",
    "    outputs = self.seq3(torch.cat((outputs1, outputs2), dim=1))\n",
    "    return outputs\n",
    "\n",
    "class Model(nn.Module):\n",
    "  def __init__(self):\n",
    "    super().__init__()\n",
    "    self.judge = Judge()\n",
    "    self.softmax = nn.Softmax(dim=1)\n",
    "\n",
    "  def forward(self, samples, targets):\n",
    "    outputs = []\n",
    "    for s, t in zip(samples, targets): outputs.append(self.judge(s, t))\n",
    "    outputs = torch.cat(tuple(outputs), dim=1).permute(1, 0)\n",
    "    outputs = self.softmax(outputs)\n",
    "    return outputs"
   ]
  },
  {
   "cell_type": "code",
   "execution_count": 9,
   "metadata": {},
   "outputs": [
    {
     "name": "stdout",
     "output_type": "stream",
     "text": [
      "torch.Size([4, 6, 64, 361]) torch.Size([4, 6, 64, 361])\n",
      "tensor([[0.1662, 0.1667, 0.1672, 0.1669, 0.1666, 0.1664],\n",
      "        [0.1663, 0.1664, 0.1670, 0.1672, 0.1669, 0.1662],\n",
      "        [0.1665, 0.1669, 0.1660, 0.1667, 0.1671, 0.1668],\n",
      "        [0.1667, 0.1663, 0.1672, 0.1662, 0.1670, 0.1665]],\n",
      "       grad_fn=<SoftmaxBackward0>)\n",
      "tensor([[0., 0., 1., 0., 0., 0.],\n",
      "        [1., 0., 0., 0., 0., 0.],\n",
      "        [0., 0., 0., 1., 0., 0.],\n",
      "        [1., 0., 0., 0., 0., 0.]])\n",
      "tensor(1.7917, grad_fn=<DivBackward1>)\n"
     ]
    }
   ],
   "source": [
    "samples, targets, labels = next(iter(dataloader))\n",
    "model = Model()\n",
    "loss_fn = nn.CrossEntropyLoss()\n",
    "outputs = model(samples, targets)\n",
    "print(samples.shape, targets.shape)\n",
    "print(outputs)\n",
    "print(labels)\n",
    "print(loss_fn(outputs, labels))"
   ]
  },
  {
   "cell_type": "code",
   "execution_count": 10,
   "metadata": {},
   "outputs": [
    {
     "name": "stdout",
     "output_type": "stream",
     "text": [
      "100/10000:\t1.7916\n",
      "200/10000:\t1.7913\n",
      "300/10000:\t1.7919\n",
      "400/10000:\t1.7919\n",
      "500/10000:\t1.7914\n",
      "600/10000:\t1.7914\n",
      "700/10000:\t1.7903\n",
      "800/10000:\t1.7885\n",
      "900/10000:\t1.7837\n",
      "1000/10000:\t1.7763\n",
      "1100/10000:\t1.7701\n",
      "1200/10000:\t1.7548\n",
      "1300/10000:\t1.7446\n",
      "1400/10000:\t1.7464\n",
      "1500/10000:\t1.7428\n",
      "1600/10000:\t1.7425\n",
      "1700/10000:\t1.7410\n",
      "1800/10000:\t1.7408\n",
      "1900/10000:\t1.7367\n",
      "2000/10000:\t1.7374\n",
      "2100/10000:\t1.7316\n",
      "2200/10000:\t1.7320\n",
      "2300/10000:\t1.7321\n",
      "2400/10000:\t1.7213\n",
      "2500/10000:\t1.7295\n",
      "2600/10000:\t1.7218\n",
      "2700/10000:\t1.7076\n",
      "2800/10000:\t1.7122\n",
      "2900/10000:\t1.7104\n",
      "3000/10000:\t1.7039\n",
      "3100/10000:\t1.7029\n",
      "3200/10000:\t1.6993\n",
      "3300/10000:\t1.6922\n",
      "3400/10000:\t1.6969\n",
      "3500/10000:\t1.6975\n",
      "3600/10000:\t1.6936\n",
      "3700/10000:\t1.6904\n",
      "3800/10000:\t1.6860\n",
      "3900/10000:\t1.6859\n",
      "4000/10000:\t1.6845\n",
      "4100/10000:\t1.6799\n",
      "4200/10000:\t1.6933\n",
      "4300/10000:\t1.6748\n",
      "4400/10000:\t1.6810\n",
      "4500/10000:\t1.6758\n",
      "4600/10000:\t1.6766\n",
      "4700/10000:\t1.6827\n",
      "4800/10000:\t1.6734\n",
      "4900/10000:\t1.6680\n",
      "5000/10000:\t1.6755\n",
      "5100/10000:\t1.6799\n",
      "5200/10000:\t1.6761\n",
      "5300/10000:\t1.6708\n",
      "5400/10000:\t1.6717\n",
      "5500/10000:\t1.6680\n",
      "5600/10000:\t1.6698\n",
      "5700/10000:\t1.6699\n",
      "5800/10000:\t1.6718\n",
      "5900/10000:\t1.6697\n",
      "6000/10000:\t1.6722\n",
      "6100/10000:\t1.6704\n",
      "6200/10000:\t1.6695\n",
      "6300/10000:\t1.6680\n",
      "6400/10000:\t1.6711\n",
      "6500/10000:\t1.6659\n",
      "6600/10000:\t1.6613\n",
      "6700/10000:\t1.6596\n",
      "6800/10000:\t1.6634\n",
      "6900/10000:\t1.6618\n",
      "7000/10000:\t1.6647\n",
      "7100/10000:\t1.6581\n",
      "7200/10000:\t1.6573\n",
      "7300/10000:\t1.6575\n",
      "7400/10000:\t1.6595\n",
      "7500/10000:\t1.6557\n",
      "7600/10000:\t1.6608\n",
      "7700/10000:\t1.6578\n",
      "7800/10000:\t1.6543\n",
      "7900/10000:\t1.6579\n",
      "8000/10000:\t1.6572\n",
      "8100/10000:\t1.6572\n",
      "8200/10000:\t1.6588\n",
      "8300/10000:\t1.6549\n",
      "8400/10000:\t1.6587\n",
      "8500/10000:\t1.6556\n",
      "8600/10000:\t1.6561\n",
      "8700/10000:\t1.6546\n",
      "8800/10000:\t1.6541\n",
      "8900/10000:\t1.6488\n",
      "9000/10000:\t1.6517\n",
      "9100/10000:\t1.6467\n",
      "9200/10000:\t1.6500\n",
      "9300/10000:\t1.6502\n",
      "9400/10000:\t1.6529\n",
      "9500/10000:\t1.6441\n",
      "9600/10000:\t1.6484\n",
      "9700/10000:\t1.6533\n",
      "9800/10000:\t1.6451\n",
      "9900/10000:\t1.6535\n",
      "10000/10000:\t1.6422\n",
      "Training Ended!\n"
     ]
    },
    {
     "data": {
      "image/png": "[encoded data removed]",
      "text/plain": [
       "<Figure size 640x480 with 1 Axes>"
      ]
     },
     "metadata": {},
     "output_type": "display_data"
    }
   ],
   "source": [
    "torch.backends.cudnn.benchmark = True\n",
    "device = \"cuda\" if torch.cuda.is_available() else \"cpu\"\n",
    "\n",
    "model = Model()\n",
    "optimizer = optim.Adam(model.parameters(), lr=3e-5, weight_decay=1e-5)\n",
    "loss_fn = nn.CrossEntropyLoss()\n",
    "losses = []\n",
    "display_losses = []\n",
    "\n",
    "model.train()\n",
    "\n",
    "if device == \"cuda\": model.cuda()\n",
    "for step in range(1, NUM_STEPS + 1):\n",
    "  optimizer.zero_grad()\n",
    "  samples, targets, labels = next(iter(dataloader))\n",
    "  outputs = model(samples.to(device), targets.to(device))\n",
    "  loss = loss_fn(outputs.to(device), labels.to(device))\n",
    "  losses.append(loss.item())\n",
    "  loss.backward()\n",
    "  optimizer.step()\n",
    "  if step % 100 == 0:\n",
    "    display_losses.append(np.mean(losses))\n",
    "    print(f\"{step}/{NUM_STEPS}:\\t{display_losses[-1]:.4f}\")\n",
    "    losses = []\n",
    "print(\"Training Ended!\")\n",
    "plt.plot(display_losses)\n",
    "plt.show()"
   ]
  },
  {
   "cell_type": "code",
   "execution_count": 11,
   "metadata": {},
   "outputs": [
    {
     "data": {
      "application/vnd.jupyter.widget-view+json": {
       "model_id": "11024c9654274fc59ef128f5ffbab70e",
       "version_major": 2,
       "version_minor": 0
      },
      "text/plain": [
       "  0%|          | 0/1000 [00:00<?, ?it/s]"
      ]
     },
     "metadata": {},
     "output_type": "display_data"
    },
    {
     "name": "stderr",
     "output_type": "stream",
     "text": [
      "C:\\Users\\User\\AppData\\Local\\Temp\\ipykernel_4280\\813813204.py:46: UserWarning: To copy construct from a tensor, it is recommended to use sourceTensor.clone().detach() or sourceTensor.clone().detach().requires_grad_(True), rather than torch.tensor(sourceTensor).\n",
      "  targets.append(self.ms(torch.tensor(target[r:r + self.embedding_dim].view(1, -1)).float()).numpy())\n"
     ]
    },
    {
     "data": {
      "text/plain": [
       "array([[0.31535485, 0.13283292, 0.12898509, 0.12940602, 0.1582941 ,\n",
       "        0.13512702]])"
      ]
     },
     "metadata": {},
     "output_type": "display_data"
    },
    {
     "data": {
      "text/plain": [
       "array([866.,  15.,   0.,   1.,  95.,  23.])"
      ]
     },
     "metadata": {},
     "output_type": "display_data"
    },
    {
     "data": {
      "image/png": "[encoded data removed]",
      "text/plain": [
       "<Figure size 640x480 with 1 Axes>"
      ]
     },
     "metadata": {},
     "output_type": "display_data"
    },
    {
     "data": {
      "application/vnd.jupyter.widget-view+json": {
       "model_id": "af6605feec1647a59898629ffa5eabf8",
       "version_major": 2,
       "version_minor": 0
      },
      "text/plain": [
       "  0%|          | 0/1000 [00:00<?, ?it/s]"
      ]
     },
     "metadata": {},
     "output_type": "display_data"
    },
    {
     "data": {
      "text/plain": [
       "array([[0.11808537, 0.26499216, 0.11810398, 0.22352066, 0.11892329,\n",
       "        0.15637453]])"
      ]
     },
     "metadata": {},
     "output_type": "display_data"
    },
    {
     "data": {
      "text/plain": [
       "array([  0., 610.,   0., 340.,   0.,  50.])"
      ]
     },
     "metadata": {},
     "output_type": "display_data"
    },
    {
     "data": {
      "image/png": "[encoded data removed]",
      "text/plain": [
       "<Figure size 640x480 with 1 Axes>"
      ]
     },
     "metadata": {},
     "output_type": "display_data"
    },
    {
     "data": {
      "application/vnd.jupyter.widget-view+json": {
       "model_id": "edb19758ffe44b16955d3702abe21592",
       "version_major": 2,
       "version_minor": 0
      },
      "text/plain": [
       "  0%|          | 0/1000 [00:00<?, ?it/s]"
      ]
     },
     "metadata": {},
     "output_type": "display_data"
    },
    {
     "data": {
      "text/plain": [
       "array([[0.12644018, 0.14467502, 0.26117984, 0.20829234, 0.1276005 ,\n",
       "        0.13181211]])"
      ]
     },
     "metadata": {},
     "output_type": "display_data"
    },
    {
     "data": {
      "text/plain": [
       "array([  0.,  45., 616., 320.,   3.,  16.])"
      ]
     },
     "metadata": {},
     "output_type": "display_data"
    },
    {
     "data": {
      "image/png": "[encoded data removed]",
      "text/plain": [
       "<Figure size 640x480 with 1 Axes>"
      ]
     },
     "metadata": {},
     "output_type": "display_data"
    },
    {
     "data": {
      "application/vnd.jupyter.widget-view+json": {
       "model_id": "2f5c56bc5fdf46b1a784c6c65561b82d",
       "version_major": 2,
       "version_minor": 0
      },
      "text/plain": [
       "  0%|          | 0/1000 [00:00<?, ?it/s]"
      ]
     },
     "metadata": {},
     "output_type": "display_data"
    },
    {
     "data": {
      "text/plain": [
       "array([[0.12538427, 0.16303761, 0.14203137, 0.31656125, 0.12539516,\n",
       "        0.12759034]])"
      ]
     },
     "metadata": {},
     "output_type": "display_data"
    },
    {
     "data": {
      "text/plain": [
       "array([  0.,  66.,  33., 898.,   0.,   3.])"
      ]
     },
     "metadata": {},
     "output_type": "display_data"
    },
    {
     "data": {
      "image/png": "[encoded data removed]",
      "text/plain": [
       "<Figure size 640x480 with 1 Axes>"
      ]
     },
     "metadata": {},
     "output_type": "display_data"
    },
    {
     "data": {
      "application/vnd.jupyter.widget-view+json": {
       "model_id": "1e9370591410446f9a67024b0450168d",
       "version_major": 2,
       "version_minor": 0
      },
      "text/plain": [
       "  0%|          | 0/1000 [00:00<?, ?it/s]"
      ]
     },
     "metadata": {},
     "output_type": "display_data"
    },
    {
     "data": {
      "text/plain": [
       "array([[0.26698956, 0.13076175, 0.12721641, 0.12767122, 0.21044321,\n",
       "        0.13691785]])"
      ]
     },
     "metadata": {},
     "output_type": "display_data"
    },
    {
     "data": {
      "text/plain": [
       "array([661.,  13.,   0.,   0., 297.,  29.])"
      ]
     },
     "metadata": {},
     "output_type": "display_data"
    },
    {
     "data": {
      "image/png": "[encoded data removed]",
      "text/plain": [
       "<Figure size 640x480 with 1 Axes>"
      ]
     },
     "metadata": {},
     "output_type": "display_data"
    },
    {
     "data": {
      "application/vnd.jupyter.widget-view+json": {
       "model_id": "dd70faff09b846c3b53a9f89f2ff5f27",
       "version_major": 2,
       "version_minor": 0
      },
      "text/plain": [
       "  0%|          | 0/1000 [00:00<?, ?it/s]"
      ]
     },
     "metadata": {},
     "output_type": "display_data"
    },
    {
     "data": {
      "text/plain": [
       "array([[0.11210815, 0.23547185, 0.11210713, 0.12455936, 0.14290589,\n",
       "        0.27284762]])"
      ]
     },
     "metadata": {},
     "output_type": "display_data"
    },
    {
     "data": {
      "text/plain": [
       "array([  0., 336.,   0.,  20.,  41., 603.])"
      ]
     },
     "metadata": {},
     "output_type": "display_data"
    },
    {
     "data": {
      "image/png": "[encoded data removed]",
      "text/plain": [
       "<Figure size 640x480 with 1 Axes>"
      ]
     },
     "metadata": {},
     "output_type": "display_data"
    }
   ],
   "source": [
    "num_validation = 1000\n",
    "#test_cases = [\"human-1\", \"human-2\", \"man-1\", \"woman-1\", \"woman-2\", \"woman-3\"]\n",
    "test_cases = [\"human-1\", \"man-1\", \"man-2\", \"woman-1\", \"woman-2\", \"woman-3\"]\n",
    "with torch.no_grad():\n",
    "  for test_index in range(len(dataset.voices)):\n",
    "    colors = [\"b\" if i != test_index else \"r\" for i in range(len(dataset.voices))]\n",
    "    avg = np.zeros((1, len(dataset.voices)))\n",
    "    occurrences = np.zeros(len(dataset.voices))\n",
    "    for i in tqdm(range(num_validation)):\n",
    "      t, _ = torchaudio.load(f\"./data/bark4/{test_cases[test_index]}.wav\")\n",
    "      samples, targets = dataset.get_selected(t.view(-1, 1))\n",
    "      outputs = model(samples.to(device).unsqueeze(0), targets.to(device).unsqueeze(0))\n",
    "      avg += outputs.cpu().numpy()\n",
    "      occurrences[outputs.cpu().numpy().argmax()] += 1\n",
    "    display(avg / num_validation)\n",
    "    display(occurrences)\n",
    "    plt.bar(np.arange(len(dataset.voices)), occurrences, color=colors)\n",
    "    plt.xticks(range(len(dataset.voices)))\n",
    "    plt.xlabel(\"test_index\")\n",
    "    plt.ylabel(\"occurrence\")\n",
    "    plt.show()\n",
    "  # display(Audio(samples[0], rate=SAMPLE_RATE))\n",
    "  # display(Audio(targets[0], rate=SAMPLE_RATE))\n",
    "  # display(Audio(samples[1], rate=SAMPLE_RATE))\n",
    "  # display(Audio(targets[1], rate=SAMPLE_RATE))\n",
    "  # display(Audio(samples[2], rate=SAMPLE_RATE))\n",
    "  # display(Audio(targets[2], rate=SAMPLE_RATE))"
   ]
  },
  {
   "cell_type": "code",
   "execution_count": 8,
   "metadata": {},
   "outputs": [],
   "source": [
    "def generate(basename, raw_prompt, index):\n",
    "  basepath = \"./data/bark - human/\"\n",
    "  text_prompt = re.sub(r\"\\s\\s+\", \" \", re.sub(r\"[\\t\\n]\", \"\", raw_prompt)).strip()\n",
    "  print(f\"{basename}: prompt-{index}\")\n",
    "  audio_array, generation_data = generate_audio(text_prompt, basename)\n",
    "  if basename not in os.listdir(basepath): os.mkdir(f\"{basepath}/{basename}\")\n",
    "  save_history(f\"{basepath}/{basename}/prompt-{index}\", audio_array, text_prompt, generation_data)"
   ]
  },
  {
   "cell_type": "code",
   "execution_count": null,
   "metadata": {},
   "outputs": [],
   "source": [
    "preload_models(use_smaller_models=True)"
   ]
  },
  {
   "cell_type": "code",
   "execution_count": 9,
   "metadata": {},
   "outputs": [
    {
     "name": "stdout",
     "output_type": "stream",
     "text": [
      "woman-2: prompt-0\n",
      "history_prompt in gen: woman-2\n",
      "woman-2\n",
      "aa\n"
     ]
    },
    {
     "name": "stderr",
     "output_type": "stream",
     "text": [
      "100%|██████████| 100/100 [00:06<00:00, 15.27it/s]\n",
      "100%|██████████| 26/26 [00:25<00:00,  1.02it/s]\n"
     ]
    },
    {
     "name": "stdout",
     "output_type": "stream",
     "text": [
      "woman-2: prompt-1\n",
      "history_prompt in gen: woman-2\n",
      "woman-2\n",
      "aa\n"
     ]
    },
    {
     "name": "stderr",
     "output_type": "stream",
     "text": [
      "100%|██████████| 100/100 [00:02<00:00, 37.80it/s]\n",
      "100%|██████████| 15/15 [00:14<00:00,  1.00it/s]\n"
     ]
    },
    {
     "name": "stdout",
     "output_type": "stream",
     "text": [
      "woman-2: prompt-2\n",
      "history_prompt in gen: woman-2\n",
      "woman-2\n",
      "aa\n"
     ]
    },
    {
     "name": "stderr",
     "output_type": "stream",
     "text": [
      "100%|██████████| 100/100 [00:05<00:00, 18.66it/s]\n",
      "100%|██████████| 26/26 [00:25<00:00,  1.00it/s]\n"
     ]
    },
    {
     "name": "stdout",
     "output_type": "stream",
     "text": [
      "woman-2: prompt-3\n",
      "history_prompt in gen: woman-2\n",
      "woman-2\n",
      "aa\n"
     ]
    },
    {
     "name": "stderr",
     "output_type": "stream",
     "text": [
      "100%|██████████| 100/100 [00:06<00:00, 15.07it/s]\n",
      "100%|██████████| 30/30 [00:29<00:00,  1.01it/s]\n"
     ]
    },
    {
     "name": "stdout",
     "output_type": "stream",
     "text": [
      "woman-2: prompt-4\n",
      "history_prompt in gen: woman-2\n",
      "woman-2\n",
      "aa\n"
     ]
    },
    {
     "name": "stderr",
     "output_type": "stream",
     "text": [
      "100%|██████████| 100/100 [00:03<00:00, 32.68it/s] \n",
      "100%|██████████| 18/18 [00:17<00:00,  1.03it/s]\n"
     ]
    },
    {
     "name": "stdout",
     "output_type": "stream",
     "text": [
      "woman-2: prompt-5\n",
      "history_prompt in gen: woman-2\n",
      "woman-2\n",
      "aa\n"
     ]
    },
    {
     "name": "stderr",
     "output_type": "stream",
     "text": [
      "100%|██████████| 100/100 [00:03<00:00, 30.18it/s] \n",
      "100%|██████████| 19/19 [00:19<00:00,  1.04s/it]\n"
     ]
    },
    {
     "name": "stdout",
     "output_type": "stream",
     "text": [
      "woman-2: prompt-6\n",
      "history_prompt in gen: woman-2\n",
      "woman-2\n",
      "aa\n"
     ]
    },
    {
     "name": "stderr",
     "output_type": "stream",
     "text": [
      "100%|██████████| 100/100 [00:05<00:00, 18.10it/s] \n",
      "100%|██████████| 22/22 [00:22<00:00,  1.00s/it]\n"
     ]
    },
    {
     "name": "stdout",
     "output_type": "stream",
     "text": [
      "woman-2: prompt-7\n",
      "history_prompt in gen: woman-2\n",
      "woman-2\n",
      "aa\n"
     ]
    },
    {
     "name": "stderr",
     "output_type": "stream",
     "text": [
      "100%|██████████| 100/100 [00:04<00:00, 22.74it/s]\n",
      "100%|██████████| 23/23 [00:22<00:00,  1.02it/s]\n"
     ]
    },
    {
     "name": "stdout",
     "output_type": "stream",
     "text": [
      "woman-2: prompt-8\n",
      "history_prompt in gen: woman-2\n",
      "woman-2\n",
      "aa\n"
     ]
    },
    {
     "name": "stderr",
     "output_type": "stream",
     "text": [
      "100%|██████████| 100/100 [00:02<00:00, 41.45it/s] \n",
      "100%|██████████| 15/15 [00:14<00:00,  1.01it/s]\n"
     ]
    },
    {
     "name": "stdout",
     "output_type": "stream",
     "text": [
      "woman-2: prompt-9\n",
      "history_prompt in gen: woman-2\n",
      "woman-2\n",
      "aa\n"
     ]
    },
    {
     "name": "stderr",
     "output_type": "stream",
     "text": [
      "100%|██████████| 100/100 [00:03<00:00, 28.54it/s]\n",
      "100%|██████████| 20/20 [00:19<00:00,  1.03it/s]\n"
     ]
    }
   ],
   "source": [
    "raw_prompts = [\n",
    "  \"A pessimist is one who makes difficulties of his opportunities and an optimist is one who makes opportunities of his difficulties.\",\n",
    "  \"Don't judge each day by the harvest you reap but by the seeds that you plant.\",\n",
    "  \"Challenges are what make life interesting and overcoming them is what makes life meaningful.\",\n",
    "  \"Happiness lies not in the mere possession of money; it lies in the joy of achievement, in the thrill of creative effort.\",\n",
    "  \"I disapprove of what you say, but I will defend to the death your right to say it.\",\n",
    "  \"If I looked compared to others far, is because I stand on giant's shoulder.\",\n",
    "  \"Never argue with stupid people, they will drag you down to their level and then beat you with experience.\",\n",
    "  \"The greatest glory in living lies not in never falling, but in rising every time we fall.\",\n",
    "  \"When you look into the abyss, the abyss also looks into you.\",\n",
    "  \"Whoever fights monsters should see to it that in the process he does not become a monster.\"\n",
    "]\n",
    "\n",
    "basename = \"woman-2\"\n",
    "\n",
    "for i, raw_prompt in enumerate(raw_prompts):\n",
    "  generate(basename, raw_prompt, i)"
   ]
  }
 ],
 "metadata": {
  "kernelspec": {
   "display_name": ".venv",
   "language": "python",
   "name": "python3"
  },
  "language_info": {
   "codemirror_mode": {
    "name": "ipython",
    "version": 3
   },
   "file_extension": ".py",
   "mimetype": "text/x-python",
   "name": "python",
   "nbconvert_exporter": "python",
   "pygments_lexer": "ipython3",
   "version": "3.10.8"
  },
  "orig_nbformat": 4
 },
 "nbformat": 4,
 "nbformat_minor": 2
}
