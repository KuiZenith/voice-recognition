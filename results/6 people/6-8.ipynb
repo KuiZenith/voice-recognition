{
 "cells": [
  {
   "cell_type": "code",
   "execution_count": 1,
   "metadata": {},
   "outputs": [],
   "source": [
    "import torch\n",
    "import torchaudio\n",
    "import torch.nn as nn\n",
    "import torch.optim as optim\n",
    "import torch.nn.functional as F\n",
    "\n",
    "from torch.utils.data import Dataset, DataLoader\n",
    "from torchaudio.transforms import MelSpectrogram\n",
    "\n",
    "import os\n",
    "import re\n",
    "import random\n",
    "import numpy as np\n",
    "import matplotlib.pyplot as plt\n",
    "\n",
    "from tqdm.notebook import tqdm\n",
    "from pprint import pprint\n",
    "from IPython.display import Audio\n",
    "from scipy.io import wavfile\n",
    "\n",
    "from bark.bark import SAMPLE_RATE, generate_audio, preload_models"
   ]
  },
  {
   "cell_type": "code",
   "execution_count": 2,
   "metadata": {},
   "outputs": [],
   "source": [
    "def save_history(basepath: str, audio_array: np.ndarray, prompt: str, generation_data: list):\n",
    "  np.savez(f\"{basepath}.npz\", semantic_prompt=generation_data[0], coarse_prompt=generation_data[1], fine_prompt=generation_data[2])\n",
    "  with open(f\"{basepath}.txt\", \"w\", encoding=\"utf-8\") as fp: fp.write(prompt)\n",
    "  wavfile.write(f\"{basepath}.wav\", SAMPLE_RATE, audio_array)\n",
    "\n",
    "def load_history(filepath: str):\n",
    "  return np.load(filepath)\n",
    "\n",
    "def load_voice(filepath: str):\n",
    "  sample_rate, audio_array = wavfile.read(filepath)\n",
    "  return audio_array\n",
    "\n",
    "def display_spectrogram(audio_array: np.ndarray):\n",
    "  plt.specgram(audio_array, NFFT=400, Fs=SAMPLE_RATE)\n",
    "  plt.show()"
   ]
  },
  {
   "cell_type": "code",
   "execution_count": 3,
   "metadata": {},
   "outputs": [],
   "source": [
    "NUM_EPOCHS = 1\n",
    "NUM_STEPS = 10000\n",
    "\n",
    "BATCH_SIZE = 4\n",
    "\n",
    "DURATION = 3000\n",
    "SHIFT = 10\n",
    "\n",
    "EMBEDDING_DIM = int(DURATION * SAMPLE_RATE / 1000)"
   ]
  },
  {
   "cell_type": "code",
   "execution_count": 4,
   "metadata": {},
   "outputs": [],
   "source": [
    "class VoiceDataset(Dataset):\n",
    "  def __init__(self, directory, embedding_dim = EMBEDDING_DIM):\n",
    "    super().__init__()\n",
    "    self.k = 1\n",
    "    self.num_mels = 64\n",
    "    self.population = 0\n",
    "    self.length = 0\n",
    "    self.embedding_dim = embedding_dim\n",
    "    self.voices = []\n",
    "    self.base_map = {}\n",
    "    self.ms = MelSpectrogram(SAMPLE_RATE, n_mels=self.num_mels)\n",
    "    for filename in os.listdir(directory):\n",
    "      if not filename.endswith(\".wav\"): continue\n",
    "      self.voices.append([])\n",
    "      self.population += 1\n",
    "      folder_name = filename.split(\".wav\")[0]\n",
    "      self.base_map[folder_name] = self.population\n",
    "      for fn in os.listdir(f\"./data/bark - human/{folder_name}\"):\n",
    "        if not fn.endswith(\".wav\"): continue\n",
    "        waveform, sample_rate = torchaudio.load(f\"./data/bark - human/{folder_name}/{fn}\")\n",
    "        self.voices[-1].append(waveform.view(-1, 1))\n",
    "        self.length += 1\n",
    "\n",
    "  def __getitem__(self, _):\n",
    "    samples, targets, labels = [], [], torch.zeros(len(self.voices) * self.k)\n",
    "    r_index = random.randint(0, len(self.voices) - 1)\n",
    "    labels[r_index] = 1\n",
    "    for person in self.voices:\n",
    "      for s in random.choices(person, k=self.k):\n",
    "        r = random.randint(0, len(s) - self.embedding_dim)\n",
    "        samples.append(self.ms(s[r:r + self.embedding_dim].view(1, -1)).numpy())\n",
    "      for t in random.choices(self.voices[r_index], k=self.k):\n",
    "        r = random.randint(0, len(t) - self.embedding_dim)\n",
    "        targets.append(self.ms(t[r:r + self.embedding_dim].view(1, -1)).numpy())\n",
    "    samples = torch.tensor(np.concatenate(samples)).view(len(self.voices) * self.k, self.num_mels, -1).float()\n",
    "    targets = torch.tensor(np.concatenate(targets)).view(len(self.voices) * self.k, self.num_mels, -1).float()\n",
    "    return samples, targets, labels\n",
    "\n",
    "  def get_selected(self, target):\n",
    "    samples, targets = [], []\n",
    "    for person in self.voices:\n",
    "      for s in random.choices(person, k=self.k):\n",
    "        r = random.randint(0, len(s) - self.embedding_dim)\n",
    "        samples.append(self.ms(s[r:r + self.embedding_dim].view(1, -1)).numpy())\n",
    "        r = random.randint(0, len(target) - self.embedding_dim)\n",
    "        targets.append(self.ms(torch.tensor(target[r:r + self.embedding_dim].view(1, -1)).float()).numpy())\n",
    "    samples = torch.tensor(np.concatenate(samples)).view(len(self.voices) * self.k, self.num_mels, -1).float()\n",
    "    targets = torch.tensor(np.concatenate(targets)).view(len(self.voices) * self.k, self.num_mels, -1).float()\n",
    "    return samples, targets\n",
    "\n",
    "  def __len__(self): return self.length"
   ]
  },
  {
   "cell_type": "code",
   "execution_count": 5,
   "metadata": {},
   "outputs": [],
   "source": [
    "dataset = VoiceDataset(\"./data/bark - human\")\n",
    "torch.save(dataset, \"./checkpoints/bark_dataset.pt\")"
   ]
  },
  {
   "cell_type": "code",
   "execution_count": 6,
   "metadata": {},
   "outputs": [],
   "source": [
    "dataset = torch.load(\"./checkpoints/bark_dataset.pt\")\n",
    "dataloader = DataLoader(dataset, batch_size=BATCH_SIZE, drop_last=True)"
   ]
  },
  {
   "cell_type": "code",
   "execution_count": 7,
   "metadata": {},
   "outputs": [],
   "source": [
    "class Judge(nn.Module):\n",
    "  def __init__(self):\n",
    "    super().__init__()\n",
    "    self.seq1 = nn.Sequential(\n",
    "      nn.Conv2d(1, 64, 4, 2, 1),\n",
    "      nn.BatchNorm2d(64),\n",
    "      nn.MaxPool2d(4),\n",
    "      nn.ReLU(True),\n",
    "      nn.Conv2d(64, 128, 2),\n",
    "      nn.BatchNorm2d(128),\n",
    "      nn.MaxPool2d(2),\n",
    "      nn.ReLU(True),\n",
    "      nn.Conv2d(128, 256, 2),\n",
    "      nn.BatchNorm2d(256),\n",
    "      nn.MaxPool2d(2),\n",
    "      nn.ReLU(True)\n",
    "    )\n",
    "    self.lstm = nn.LSTM(256, 256, 1, batch_first=True, bidirectional=True)\n",
    "    self.seq2 = nn.Sequential(\n",
    "      nn.ReLU(),\n",
    "      nn.Flatten(),\n",
    "      nn.Dropout(0.3)\n",
    "    )\n",
    "    self.seq3 = nn.Sequential(\n",
    "      nn.Linear(256 * 40, 256),\n",
    "      nn.ReLU(True),\n",
    "      nn.Linear(256, 64),\n",
    "      nn.ReLU(True),\n",
    "      nn.Linear(64, 1),\n",
    "      nn.Sigmoid(),\n",
    "    )\n",
    "\n",
    "  def forward(self, sample, target):\n",
    "    outputs1 = self.seq1(sample.view(sample.size(0), 1, sample.size(1), sample.size(2)))\n",
    "    outputs2 = self.seq1(target.view(sample.size(0), 1, sample.size(1), sample.size(2)))\n",
    "    outputs1, _ = self.lstm(outputs1.squeeze(2).permute(0, 2, 1))\n",
    "    outputs2, _ = self.lstm(outputs2.squeeze(2).permute(0, 2, 1))\n",
    "    outputs1 = self.seq2(outputs1)\n",
    "    outputs2 = self.seq2(outputs2)\n",
    "    outputs = self.seq3(torch.cat((outputs1, outputs2), dim=1))\n",
    "    return outputs\n",
    "\n",
    "class Model(nn.Module):\n",
    "  def __init__(self):\n",
    "    super().__init__()\n",
    "    self.judge = Judge()\n",
    "    self.softmax = nn.Softmax(dim=1)\n",
    "\n",
    "  def forward(self, samples, targets):\n",
    "    outputs = []\n",
    "    for s, t in zip(samples, targets): outputs.append(self.judge(s, t))\n",
    "    outputs = torch.cat(tuple(outputs), dim=1).permute(1, 0)\n",
    "    outputs = self.softmax(outputs)\n",
    "    return outputs"
   ]
  },
  {
   "cell_type": "code",
   "execution_count": 9,
   "metadata": {},
   "outputs": [
    {
     "name": "stdout",
     "output_type": "stream",
     "text": [
      "torch.Size([4, 6, 64, 361]) torch.Size([4, 6, 64, 361])\n",
      "tensor([[0.1674, 0.1667, 0.1662, 0.1669, 0.1665, 0.1662],\n",
      "        [0.1667, 0.1667, 0.1670, 0.1670, 0.1662, 0.1664],\n",
      "        [0.1670, 0.1662, 0.1669, 0.1670, 0.1664, 0.1664],\n",
      "        [0.1665, 0.1666, 0.1667, 0.1665, 0.1670, 0.1666]],\n",
      "       grad_fn=<SoftmaxBackward0>)\n",
      "tensor([[1., 0., 0., 0., 0., 0.],\n",
      "        [0., 0., 0., 0., 1., 0.],\n",
      "        [0., 0., 0., 0., 0., 1.],\n",
      "        [0., 0., 0., 0., 1., 0.]])\n",
      "tensor(1.7917, grad_fn=<DivBackward1>)\n"
     ]
    }
   ],
   "source": [
    "samples, targets, labels = next(iter(dataloader))\n",
    "model = Model()\n",
    "loss_fn = nn.CrossEntropyLoss()\n",
    "outputs = model(samples, targets)\n",
    "print(samples.shape, targets.shape)\n",
    "print(outputs)\n",
    "print(labels)\n",
    "print(loss_fn(outputs, labels))"
   ]
  },
  {
   "cell_type": "code",
   "execution_count": 12,
   "metadata": {},
   "outputs": [
    {
     "name": "stdout",
     "output_type": "stream",
     "text": [
      "100/10000:\t1.7917\n",
      "200/10000:\t1.7919\n",
      "300/10000:\t1.7918\n",
      "400/10000:\t1.7917\n",
      "500/10000:\t1.7916\n",
      "600/10000:\t1.7919\n",
      "700/10000:\t1.7919\n",
      "800/10000:\t1.7914\n",
      "900/10000:\t1.7916\n",
      "1000/10000:\t1.7916\n",
      "1100/10000:\t1.7917\n",
      "1200/10000:\t1.7915\n",
      "1300/10000:\t1.7905\n",
      "1400/10000:\t1.7911\n",
      "1500/10000:\t1.7897\n",
      "1600/10000:\t1.7884\n",
      "1700/10000:\t1.7835\n",
      "1800/10000:\t1.7702\n",
      "1900/10000:\t1.7700\n",
      "2000/10000:\t1.7520\n",
      "2100/10000:\t1.7464\n",
      "2200/10000:\t1.7351\n",
      "2300/10000:\t1.7309\n",
      "2400/10000:\t1.7196\n",
      "2500/10000:\t1.7178\n",
      "2600/10000:\t1.7170\n",
      "2700/10000:\t1.7075\n",
      "2800/10000:\t1.7054\n",
      "2900/10000:\t1.7044\n",
      "3000/10000:\t1.7020\n",
      "3100/10000:\t1.6994\n",
      "3200/10000:\t1.6969\n",
      "3300/10000:\t1.6953\n",
      "3400/10000:\t1.6916\n",
      "3500/10000:\t1.6966\n",
      "3600/10000:\t1.6909\n",
      "3700/10000:\t1.6883\n",
      "3800/10000:\t1.6946\n",
      "3900/10000:\t1.6868\n",
      "4000/10000:\t1.6896\n",
      "4100/10000:\t1.6864\n",
      "4200/10000:\t1.6861\n",
      "4300/10000:\t1.6838\n",
      "4400/10000:\t1.6877\n",
      "4500/10000:\t1.6888\n",
      "4600/10000:\t1.6792\n",
      "4700/10000:\t1.6866\n",
      "4800/10000:\t1.6885\n",
      "4900/10000:\t1.6806\n",
      "5000/10000:\t1.6799\n",
      "5100/10000:\t1.6813\n",
      "5200/10000:\t1.6806\n",
      "5300/10000:\t1.6812\n",
      "5400/10000:\t1.6780\n",
      "5500/10000:\t1.6750\n",
      "5600/10000:\t1.6837\n",
      "5700/10000:\t1.6819\n",
      "5800/10000:\t1.6771\n",
      "5900/10000:\t1.6734\n",
      "6000/10000:\t1.6760\n",
      "6100/10000:\t1.6712\n",
      "6200/10000:\t1.6736\n",
      "6300/10000:\t1.6775\n",
      "6400/10000:\t1.6725\n",
      "6500/10000:\t1.6747\n",
      "6600/10000:\t1.6706\n",
      "6700/10000:\t1.6739\n",
      "6800/10000:\t1.6693\n",
      "6900/10000:\t1.6724\n",
      "7000/10000:\t1.6708\n",
      "7100/10000:\t1.6728\n",
      "7200/10000:\t1.6736\n",
      "7300/10000:\t1.6688\n",
      "7400/10000:\t1.6706\n",
      "7500/10000:\t1.6659\n",
      "7600/10000:\t1.6725\n",
      "7700/10000:\t1.6663\n",
      "7800/10000:\t1.6664\n",
      "7900/10000:\t1.6669\n",
      "8000/10000:\t1.6641\n",
      "8100/10000:\t1.6602\n",
      "8200/10000:\t1.6636\n",
      "8300/10000:\t1.6671\n",
      "8400/10000:\t1.6607\n",
      "8500/10000:\t1.6687\n",
      "8600/10000:\t1.6629\n",
      "8700/10000:\t1.6633\n",
      "8800/10000:\t1.6619\n",
      "8900/10000:\t1.6620\n",
      "9000/10000:\t1.6616\n",
      "9100/10000:\t1.6592\n",
      "9200/10000:\t1.6622\n",
      "9300/10000:\t1.6571\n",
      "9400/10000:\t1.6653\n",
      "9500/10000:\t1.6597\n",
      "9600/10000:\t1.6602\n",
      "9700/10000:\t1.6609\n",
      "9800/10000:\t1.6618\n",
      "9900/10000:\t1.6611\n",
      "10000/10000:\t1.6573\n",
      "Training Ended!\n"
     ]
    },
    {
     "data": {
      "image/png": "[encoded data removed]",
      "text/plain": [
       "<Figure size 640x480 with 1 Axes>"
      ]
     },
     "metadata": {},
     "output_type": "display_data"
    }
   ],
   "source": [
    "torch.backends.cudnn.benchmark = True\n",
    "device = \"cuda\" if torch.cuda.is_available() else \"cpu\"\n",
    "\n",
    "model = Model()\n",
    "optimizer = optim.Adam(model.parameters(), lr=3e-5, weight_decay=1e-5)\n",
    "loss_fn = nn.CrossEntropyLoss()\n",
    "losses = []\n",
    "display_losses = []\n",
    "\n",
    "model.train()\n",
    "\n",
    "if device == \"cuda\": model.cuda()\n",
    "for step in range(1, NUM_STEPS + 1):\n",
    "  optimizer.zero_grad()\n",
    "  samples, targets, labels = next(iter(dataloader))\n",
    "  outputs = model(samples.to(device), targets.to(device))\n",
    "  loss = loss_fn(outputs.to(device), labels.to(device))\n",
    "  losses.append(loss.item())\n",
    "  loss.backward()\n",
    "  optimizer.step()\n",
    "  if step % 100 == 0:\n",
    "    display_losses.append(np.mean(losses))\n",
    "    print(f\"{step}/{NUM_STEPS}:\\t{display_losses[-1]:.4f}\")\n",
    "    losses = []\n",
    "print(\"Training Ended!\")\n",
    "plt.plot(display_losses)\n",
    "plt.show()"
   ]
  },
  {
   "cell_type": "code",
   "execution_count": 13,
   "metadata": {},
   "outputs": [
    {
     "data": {
      "application/vnd.jupyter.widget-view+json": {
       "model_id": "49fb6e96786348c382b4e977fd9beb6d",
       "version_major": 2,
       "version_minor": 0
      },
      "text/plain": [
       "  0%|          | 0/1000 [00:00<?, ?it/s]"
      ]
     },
     "metadata": {},
     "output_type": "display_data"
    },
    {
     "name": "stderr",
     "output_type": "stream",
     "text": [
      "C:\\Users\\Kui\\AppData\\Local\\Temp\\ipykernel_46164\\1191066848.py:46: UserWarning: To copy construct from a tensor, it is recommended to use sourceTensor.clone().detach() or sourceTensor.clone().detach().requires_grad_(True), rather than torch.tensor(sourceTensor).\n",
      "  targets.append(self.ms(torch.tensor(target[r:r + self.embedding_dim].view(1, -1)).float()).numpy())\n"
     ]
    },
    {
     "data": {
      "text/plain": [
       "array([[0.27985741, 0.2807317 , 0.10771701, 0.1077097 , 0.11627825,\n",
       "        0.10770593]])"
      ]
     },
     "metadata": {},
     "output_type": "display_data"
    },
    {
     "data": {
      "text/plain": [
       "array([400., 598.,   0.,   0.,   2.,   0.])"
      ]
     },
     "metadata": {},
     "output_type": "display_data"
    },
    {
     "data": {
      "image/png": "[encoded data removed]",
      "text/plain": [
       "<Figure size 640x480 with 1 Axes>"
      ]
     },
     "metadata": {},
     "output_type": "display_data"
    },
    {
     "data": {
      "application/vnd.jupyter.widget-view+json": {
       "model_id": "111fec37d8e847d495f74a06a44f586f",
       "version_major": 2,
       "version_minor": 0
      },
      "text/plain": [
       "  0%|          | 0/1000 [00:00<?, ?it/s]"
      ]
     },
     "metadata": {},
     "output_type": "display_data"
    },
    {
     "data": {
      "text/plain": [
       "array([[0.26410876, 0.26401211, 0.11219448, 0.11235994, 0.13538296,\n",
       "        0.11194174]])"
      ]
     },
     "metadata": {},
     "output_type": "display_data"
    },
    {
     "data": {
      "text/plain": [
       "array([446., 543.,   0.,   0.,  11.,   0.])"
      ]
     },
     "metadata": {},
     "output_type": "display_data"
    },
    {
     "data": {
      "image/png": "[encoded data removed]",
      "text/plain": [
       "<Figure size 640x480 with 1 Axes>"
      ]
     },
     "metadata": {},
     "output_type": "display_data"
    },
    {
     "data": {
      "application/vnd.jupyter.widget-view+json": {
       "model_id": "ec7b27e72bc94dad9d49b7c324666a0b",
       "version_major": 2,
       "version_minor": 0
      },
      "text/plain": [
       "  0%|          | 0/1000 [00:00<?, ?it/s]"
      ]
     },
     "metadata": {},
     "output_type": "display_data"
    },
    {
     "data": {
      "text/plain": [
       "array([[0.12460114, 0.1245958 , 0.30743883, 0.12640994, 0.15358944,\n",
       "        0.16336486]])"
      ]
     },
     "metadata": {},
     "output_type": "display_data"
    },
    {
     "data": {
      "text/plain": [
       "array([  0.,   0., 846.,   2.,  74.,  78.])"
      ]
     },
     "metadata": {},
     "output_type": "display_data"
    },
    {
     "data": {
      "image/png": "[encoded data removed]",
      "text/plain": [
       "<Figure size 640x480 with 1 Axes>"
      ]
     },
     "metadata": {},
     "output_type": "display_data"
    },
    {
     "data": {
      "application/vnd.jupyter.widget-view+json": {
       "model_id": "f108c03860b74ba5a59d8429cee89aa6",
       "version_major": 2,
       "version_minor": 0
      },
      "text/plain": [
       "  0%|          | 0/1000 [00:00<?, ?it/s]"
      ]
     },
     "metadata": {},
     "output_type": "display_data"
    },
    {
     "data": {
      "text/plain": [
       "array([[0.12837696, 0.12837696, 0.12842416, 0.32362808, 0.12837749,\n",
       "        0.16281635]])"
      ]
     },
     "metadata": {},
     "output_type": "display_data"
    },
    {
     "data": {
      "text/plain": [
       "array([  1.,   0.,   0., 920.,   0.,  79.])"
      ]
     },
     "metadata": {},
     "output_type": "display_data"
    },
    {
     "data": {
      "image/png": "[encoded data removed]",
      "text/plain": [
       "<Figure size 640x480 with 1 Axes>"
      ]
     },
     "metadata": {},
     "output_type": "display_data"
    },
    {
     "data": {
      "application/vnd.jupyter.widget-view+json": {
       "model_id": "db1b100d6b7b4e63a7ad180c50283c3e",
       "version_major": 2,
       "version_minor": 0
      },
      "text/plain": [
       "  0%|          | 0/1000 [00:00<?, ?it/s]"
      ]
     },
     "metadata": {},
     "output_type": "display_data"
    },
    {
     "data": {
      "text/plain": [
       "array([[0.14160093, 0.13839683, 0.14819917, 0.13253262, 0.30834323,\n",
       "        0.13092722]])"
      ]
     },
     "metadata": {},
     "output_type": "display_data"
    },
    {
     "data": {
      "text/plain": [
       "array([ 34.,  26.,  40.,   8., 886.,   6.])"
      ]
     },
     "metadata": {},
     "output_type": "display_data"
    },
    {
     "data": {
      "image/png": "[encoded data removed]",
      "text/plain": [
       "<Figure size 640x480 with 1 Axes>"
      ]
     },
     "metadata": {},
     "output_type": "display_data"
    },
    {
     "data": {
      "application/vnd.jupyter.widget-view+json": {
       "model_id": "815ab1631cb2450e9bd4b3886d862754",
       "version_major": 2,
       "version_minor": 0
      },
      "text/plain": [
       "  0%|          | 0/1000 [00:00<?, ?it/s]"
      ]
     },
     "metadata": {},
     "output_type": "display_data"
    },
    {
     "data": {
      "text/plain": [
       "array([[0.12699338, 0.12699338, 0.13602781, 0.15571327, 0.13005773,\n",
       "        0.32421442]])"
      ]
     },
     "metadata": {},
     "output_type": "display_data"
    },
    {
     "data": {
      "text/plain": [
       "array([  0.,   0.,  16.,  61.,   2., 921.])"
      ]
     },
     "metadata": {},
     "output_type": "display_data"
    },
    {
     "data": {
      "image/png": "[encoded data removed]",
      "text/plain": [
       "<Figure size 640x480 with 1 Axes>"
      ]
     },
     "metadata": {},
     "output_type": "display_data"
    }
   ],
   "source": [
    "num_validation = 1000\n",
    "test_cases = [\"human-1\", \"human-2\", \"man-1\", \"woman-1\", \"woman-2\", \"woman-3\"]\n",
    "\n",
    "with torch.no_grad():\n",
    "  for test_index in range(len(dataset.voices)):\n",
    "    colors = [\"b\" if i != test_index else \"r\" for i in range(len(dataset.voices))]\n",
    "    avg = np.zeros((1, len(dataset.voices)))\n",
    "    occurrences = np.zeros(len(dataset.voices))\n",
    "    for i in tqdm(range(num_validation)):\n",
    "      t, _ = torchaudio.load(f\"./data/bark - human/{test_cases[test_index]}.wav\")\n",
    "      samples, targets = dataset.get_selected(t.view(-1, 1))\n",
    "      outputs = model(samples.to(device).unsqueeze(0), targets.to(device).unsqueeze(0))\n",
    "      avg += outputs.cpu().numpy()\n",
    "      occurrences[outputs.cpu().numpy().argmax()] += 1\n",
    "    display(avg / num_validation)\n",
    "    display(occurrences)\n",
    "    plt.bar(np.arange(len(dataset.voices)), occurrences, color=colors)\n",
    "    plt.xticks(range(len(dataset.voices)))\n",
    "    plt.xlabel(\"test_index\")\n",
    "    plt.ylabel(\"occurrence\")\n",
    "    plt.show()\n",
    "  # display(Audio(samples[0], rate=SAMPLE_RATE))\n",
    "  # display(Audio(targets[0], rate=SAMPLE_RATE))\n",
    "  # display(Audio(samples[1], rate=SAMPLE_RATE))\n",
    "  # display(Audio(targets[1], rate=SAMPLE_RATE))\n",
    "  # display(Audio(samples[2], rate=SAMPLE_RATE))\n",
    "  # display(Audio(targets[2], rate=SAMPLE_RATE))"
   ]
  },
  {
   "cell_type": "code",
   "execution_count": 8,
   "metadata": {},
   "outputs": [],
   "source": [
    "def generate(basename, raw_prompt, index):\n",
    "  basepath = \"./data/bark - human/\"\n",
    "  text_prompt = re.sub(r\"\\s\\s+\", \" \", re.sub(r\"[\\t\\n]\", \"\", raw_prompt)).strip()\n",
    "  print(f\"{basename}: prompt-{index}\")\n",
    "  audio_array, generation_data = generate_audio(text_prompt, basename)\n",
    "  if basename not in os.listdir(basepath): os.mkdir(f\"{basepath}/{basename}\")\n",
    "  save_history(f\"{basepath}/{basename}/prompt-{index}\", audio_array, text_prompt, generation_data)"
   ]
  },
  {
   "cell_type": "code",
   "execution_count": null,
   "metadata": {},
   "outputs": [],
   "source": [
    "preload_models(use_smaller_models=True)"
   ]
  },
  {
   "cell_type": "code",
   "execution_count": 9,
   "metadata": {},
   "outputs": [
    {
     "name": "stdout",
     "output_type": "stream",
     "text": [
      "woman-2: prompt-0\n",
      "history_prompt in gen: woman-2\n",
      "woman-2\n",
      "aa\n"
     ]
    },
    {
     "name": "stderr",
     "output_type": "stream",
     "text": [
      "100%|██████████| 100/100 [00:06<00:00, 15.27it/s]\n",
      "100%|██████████| 26/26 [00:25<00:00,  1.02it/s]\n"
     ]
    },
    {
     "name": "stdout",
     "output_type": "stream",
     "text": [
      "woman-2: prompt-1\n",
      "history_prompt in gen: woman-2\n",
      "woman-2\n",
      "aa\n"
     ]
    },
    {
     "name": "stderr",
     "output_type": "stream",
     "text": [
      "100%|██████████| 100/100 [00:02<00:00, 37.80it/s]\n",
      "100%|██████████| 15/15 [00:14<00:00,  1.00it/s]\n"
     ]
    },
    {
     "name": "stdout",
     "output_type": "stream",
     "text": [
      "woman-2: prompt-2\n",
      "history_prompt in gen: woman-2\n",
      "woman-2\n",
      "aa\n"
     ]
    },
    {
     "name": "stderr",
     "output_type": "stream",
     "text": [
      "100%|██████████| 100/100 [00:05<00:00, 18.66it/s]\n",
      "100%|██████████| 26/26 [00:25<00:00,  1.00it/s]\n"
     ]
    },
    {
     "name": "stdout",
     "output_type": "stream",
     "text": [
      "woman-2: prompt-3\n",
      "history_prompt in gen: woman-2\n",
      "woman-2\n",
      "aa\n"
     ]
    },
    {
     "name": "stderr",
     "output_type": "stream",
     "text": [
      "100%|██████████| 100/100 [00:06<00:00, 15.07it/s]\n",
      "100%|██████████| 30/30 [00:29<00:00,  1.01it/s]\n"
     ]
    },
    {
     "name": "stdout",
     "output_type": "stream",
     "text": [
      "woman-2: prompt-4\n",
      "history_prompt in gen: woman-2\n",
      "woman-2\n",
      "aa\n"
     ]
    },
    {
     "name": "stderr",
     "output_type": "stream",
     "text": [
      "100%|██████████| 100/100 [00:03<00:00, 32.68it/s] \n",
      "100%|██████████| 18/18 [00:17<00:00,  1.03it/s]\n"
     ]
    },
    {
     "name": "stdout",
     "output_type": "stream",
     "text": [
      "woman-2: prompt-5\n",
      "history_prompt in gen: woman-2\n",
      "woman-2\n",
      "aa\n"
     ]
    },
    {
     "name": "stderr",
     "output_type": "stream",
     "text": [
      "100%|██████████| 100/100 [00:03<00:00, 30.18it/s] \n",
      "100%|██████████| 19/19 [00:19<00:00,  1.04s/it]\n"
     ]
    },
    {
     "name": "stdout",
     "output_type": "stream",
     "text": [
      "woman-2: prompt-6\n",
      "history_prompt in gen: woman-2\n",
      "woman-2\n",
      "aa\n"
     ]
    },
    {
     "name": "stderr",
     "output_type": "stream",
     "text": [
      "100%|██████████| 100/100 [00:05<00:00, 18.10it/s] \n",
      "100%|██████████| 22/22 [00:22<00:00,  1.00s/it]\n"
     ]
    },
    {
     "name": "stdout",
     "output_type": "stream",
     "text": [
      "woman-2: prompt-7\n",
      "history_prompt in gen: woman-2\n",
      "woman-2\n",
      "aa\n"
     ]
    },
    {
     "name": "stderr",
     "output_type": "stream",
     "text": [
      "100%|██████████| 100/100 [00:04<00:00, 22.74it/s]\n",
      "100%|██████████| 23/23 [00:22<00:00,  1.02it/s]\n"
     ]
    },
    {
     "name": "stdout",
     "output_type": "stream",
     "text": [
      "woman-2: prompt-8\n",
      "history_prompt in gen: woman-2\n",
      "woman-2\n",
      "aa\n"
     ]
    },
    {
     "name": "stderr",
     "output_type": "stream",
     "text": [
      "100%|██████████| 100/100 [00:02<00:00, 41.45it/s] \n",
      "100%|██████████| 15/15 [00:14<00:00,  1.01it/s]\n"
     ]
    },
    {
     "name": "stdout",
     "output_type": "stream",
     "text": [
      "woman-2: prompt-9\n",
      "history_prompt in gen: woman-2\n",
      "woman-2\n",
      "aa\n"
     ]
    },
    {
     "name": "stderr",
     "output_type": "stream",
     "text": [
      "100%|██████████| 100/100 [00:03<00:00, 28.54it/s]\n",
      "100%|██████████| 20/20 [00:19<00:00,  1.03it/s]\n"
     ]
    }
   ],
   "source": [
    "raw_prompts = [\n",
    "  \"A pessimist is one who makes difficulties of his opportunities and an optimist is one who makes opportunities of his difficulties.\",\n",
    "  \"Don't judge each day by the harvest you reap but by the seeds that you plant.\",\n",
    "  \"Challenges are what make life interesting and overcoming them is what makes life meaningful.\",\n",
    "  \"Happiness lies not in the mere possession of money; it lies in the joy of achievement, in the thrill of creative effort.\",\n",
    "  \"I disapprove of what you say, but I will defend to the death your right to say it.\",\n",
    "  \"If I looked compared to others far, is because I stand on giant's shoulder.\",\n",
    "  \"Never argue with stupid people, they will drag you down to their level and then beat you with experience.\",\n",
    "  \"The greatest glory in living lies not in never falling, but in rising every time we fall.\",\n",
    "  \"When you look into the abyss, the abyss also looks into you.\",\n",
    "  \"Whoever fights monsters should see to it that in the process he does not become a monster.\"\n",
    "]\n",
    "\n",
    "basename = \"woman-2\"\n",
    "\n",
    "for i, raw_prompt in enumerate(raw_prompts):\n",
    "  generate(basename, raw_prompt, i)"
   ]
  }
 ],
 "metadata": {
  "kernelspec": {
   "display_name": ".venv",
   "language": "python",
   "name": "python3"
  },
  "language_info": {
   "codemirror_mode": {
    "name": "ipython",
    "version": 3
   },
   "file_extension": ".py",
   "mimetype": "text/x-python",
   "name": "python",
   "nbconvert_exporter": "python",
   "pygments_lexer": "ipython3",
   "version": "3.10.8"
  },
  "orig_nbformat": 4
 },
 "nbformat": 4,
 "nbformat_minor": 2
}
