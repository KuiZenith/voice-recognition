{
 "cells": [
  {
   "cell_type": "code",
   "execution_count": 15,
   "metadata": {},
   "outputs": [],
   "source": [
    "import torch\n",
    "import torch.nn as nn\n",
    "import torch.optim as optim\n",
    "\n",
    "from torch.utils.data import Dataset, DataLoader\n",
    "\n",
    "import os\n",
    "import re\n",
    "import json\n",
    "import random\n",
    "import numpy as np\n",
    "import matplotlib.pyplot as plt\n",
    "\n",
    "from tqdm.notebook import tqdm\n",
    "from pprint import pprint\n",
    "from IPython.display import Audio\n",
    "from scipy.io import wavfile\n",
    "\n",
    "from bark.bark import SAMPLE_RATE, generate_audio, preload_models"
   ]
  },
  {
   "cell_type": "code",
   "execution_count": 2,
   "metadata": {},
   "outputs": [],
   "source": [
    "def save_history(basepath: str, audio_array: np.ndarray, prompt: str, generation_data: list):\n",
    "  np.savez(f\"{basepath}.npz\", semantic_prompt=generation_data[0], coarse_prompt=generation_data[1], fine_prompt=generation_data[2])\n",
    "  with open(f\"{basepath}.txt\", \"w\", encoding=\"utf-8\") as fp: fp.write(prompt)\n",
    "  wavfile.write(f\"{basepath}.wav\", SAMPLE_RATE, audio_array)\n",
    "\n",
    "def load_history(filepath: str):\n",
    "  return np.load(filepath)\n",
    "\n",
    "def load_voice(filepath: str):\n",
    "  sample_rate, audio_array = wavfile.read(filepath)\n",
    "  return audio_array"
   ]
  },
  {
   "cell_type": "code",
   "execution_count": 3,
   "metadata": {},
   "outputs": [],
   "source": [
    "NUM_EPOCHS = 1\n",
    "NUM_STEPS = 50000\n",
    "\n",
    "BATCH_SIZE = 4\n",
    "\n",
    "DURATION = 3000\n",
    "\n",
    "EMBEDDING_DIM = int(DURATION * SAMPLE_RATE / 1000)"
   ]
  },
  {
   "cell_type": "code",
   "execution_count": 4,
   "metadata": {},
   "outputs": [],
   "source": [
    "class VoiceDataset(Dataset):\n",
    "  def __init__(self, directory, embedding_dim = EMBEDDING_DIM):\n",
    "    super().__init__()\n",
    "    self.k = 1\n",
    "    self.population = 0\n",
    "    self.length = 0\n",
    "    self.embedding_dim = embedding_dim\n",
    "    self.voices = []\n",
    "    self.base_map = {}\n",
    "    for filename in os.listdir(directory):\n",
    "      if not filename.endswith(\".wav\"): continue\n",
    "      self.voices.append([])\n",
    "      self.population += 1\n",
    "      folder_name = filename.split(\".wav\")[0]\n",
    "      self.base_map[folder_name] = self.population\n",
    "      for fn in os.listdir(f\"./data/bark/{folder_name}\"):\n",
    "        if not fn.endswith(\".wav\"): continue\n",
    "        self.voices[-1].append(load_voice(f\"./data/bark/{folder_name}/{fn}\"))\n",
    "        self.length += 1\n",
    "\n",
    "  def __getitem__(self, _):\n",
    "    samples, targets, labels = [], [], torch.zeros(len(self.voices))\n",
    "    r_index = random.randint(0, len(self.voices) - 1)\n",
    "    labels[r_index] = 1\n",
    "    for person in self.voices:\n",
    "      for s in random.choices(person, k=self.k):\n",
    "        r = random.randint(0, len(s) - self.embedding_dim)\n",
    "        samples.append(s[r:r + self.embedding_dim])\n",
    "      for t in random.choices(self.voices[r_index], k=self.k):\n",
    "        r = random.randint(0, len(t) - self.embedding_dim)\n",
    "        targets.append(t[r:r + self.embedding_dim])\n",
    "    samples = torch.tensor(np.concatenate(samples)).view(len(self.voices) * self.k, -1).float()\n",
    "    targets = torch.tensor(np.concatenate(targets)).view(len(self.voices) * self.k, -1).float()\n",
    "    return samples, targets, labels\n",
    "\n",
    "  def get_selected(self, target):\n",
    "    samples, targets = [], []\n",
    "    for person in self.voices:\n",
    "      for s in random.choices(person, k=self.k):\n",
    "        r = random.randint(0, len(s) - self.embedding_dim)\n",
    "        samples.append(s[r:r + self.embedding_dim])\n",
    "        r = random.randint(0, len(target) - self.embedding_dim)\n",
    "        targets.append(target[r:r + self.embedding_dim])\n",
    "    samples = torch.tensor(np.concatenate(samples)).view(len(self.voices) * self.k, -1).float()\n",
    "    targets = torch.tensor(np.concatenate(targets)).view(len(self.voices) * self.k, -1).float()\n",
    "    return samples, targets\n",
    "\n",
    "  def __len__(self): return self.length"
   ]
  },
  {
   "cell_type": "code",
   "execution_count": 6,
   "metadata": {},
   "outputs": [],
   "source": [
    "dataset = VoiceDataset(\"./data/bark\")\n",
    "torch.save(dataset, \"./checkpoints/bark_dataset.pt\")"
   ]
  },
  {
   "cell_type": "code",
   "execution_count": 7,
   "metadata": {},
   "outputs": [],
   "source": [
    "dataset = torch.load(\"./checkpoints/bark_dataset.pt\")\n",
    "dataloader = DataLoader(dataset, batch_size=BATCH_SIZE)"
   ]
  },
  {
   "cell_type": "code",
   "execution_count": 8,
   "metadata": {},
   "outputs": [],
   "source": [
    "class Judge(nn.Module):\n",
    "  def __init__(self, k):\n",
    "    super().__init__()\n",
    "    self.k = k\n",
    "    self.seq1 = nn.Sequential(\n",
    "      nn.Conv1d(1, 64, int(0.025 * SAMPLE_RATE), int(0.01 * SAMPLE_RATE)),\n",
    "      nn.BatchNorm1d(64),\n",
    "      nn.MaxPool1d(4),\n",
    "      nn.ReLU(True),\n",
    "      nn.Conv1d(64, 128, 4),\n",
    "      nn.BatchNorm1d(128),\n",
    "      nn.MaxPool1d(2),\n",
    "      nn.ReLU(True),\n",
    "      nn.Conv1d(128, 256, 4),\n",
    "      nn.BatchNorm1d(256),\n",
    "      nn.MaxPool1d(2),\n",
    "      nn.ReLU(True)\n",
    "    )\n",
    "    self.gru = nn.LSTM(256, 256, 2, batch_first=True, bidirectional=True)\n",
    "    self.seq2 = nn.Sequential(\n",
    "      nn.ReLU(),\n",
    "      nn.Flatten(),\n",
    "      nn.Dropout(0.3)\n",
    "    )\n",
    "    self.seq3 = nn.Sequential(\n",
    "      nn.Linear(256 * 64, 1024),\n",
    "      nn.ReLU(True),\n",
    "      nn.Dropout(0.2),\n",
    "      nn.Linear(1024, 256),\n",
    "      nn.ReLU(True),\n",
    "      nn.Dropout(0.1),\n",
    "      nn.Linear(256, 64),\n",
    "      nn.ReLU(True),\n",
    "      nn.Linear(64, 1),\n",
    "      nn.Sigmoid(),\n",
    "    )\n",
    "\n",
    "  def forward(self, sample, target):\n",
    "    outputs1 = self.seq1(sample.view(-1, 1, sample.size(1)))\n",
    "    outputs2 = self.seq1(target.view(-1, 1, target.size(1)))\n",
    "    outputs1, _ = self.gru(outputs1.permute(0, 2, 1))\n",
    "    outputs2, _ = self.gru(outputs2.permute(0, 2, 1))\n",
    "    outputs1 = self.seq2(outputs1)\n",
    "    outputs2 = self.seq2(outputs2)\n",
    "    outputs = self.seq3(torch.cat((outputs1, outputs2), dim=1))\n",
    "    outputs = torch.cat([outputs[i:i + self.k, :] for i in range(0, outputs.size(0), self.k)], dim=1).sum(0)\n",
    "    return outputs\n",
    "\n",
    "class Model(nn.Module):\n",
    "  def __init__(self, k = 1):\n",
    "    super().__init__()\n",
    "    self.k = k\n",
    "    self.judge = Judge(self.k)\n",
    "    self.softmax = nn.Softmax(dim=1)\n",
    "\n",
    "  def forward(self, samples, targets):\n",
    "    outputs = []\n",
    "    for s, t in zip(samples, targets): outputs.append(self.judge(s, t).unsqueeze(1))\n",
    "    outputs = torch.cat(tuple(outputs), dim=1).permute(1, 0)\n",
    "    outputs = self.softmax(outputs)\n",
    "    return outputs"
   ]
  },
  {
   "cell_type": "code",
   "execution_count": 9,
   "metadata": {},
   "outputs": [
    {
     "ename": "TypeError",
     "evalue": "Judge.__init__() missing 1 required positional argument: 'k'",
     "output_type": "error",
     "traceback": [
      "\u001b[1;31m---------------------------------------------------------------------------\u001b[0m",
      "\u001b[1;31mTypeError\u001b[0m                                 Traceback (most recent call last)",
      "Cell \u001b[1;32mIn[9], line 2\u001b[0m\n\u001b[0;32m      1\u001b[0m samples, targets, labels \u001b[39m=\u001b[39m \u001b[39mnext\u001b[39m(\u001b[39miter\u001b[39m(dataloader))\n\u001b[1;32m----> 2\u001b[0m model \u001b[39m=\u001b[39m Judge()\n\u001b[0;32m      3\u001b[0m plt\u001b[39m.\u001b[39mplot(np\u001b[39m.\u001b[39marange(\u001b[39m0\u001b[39m, \u001b[39m3\u001b[39m, \u001b[39m1\u001b[39m \u001b[39m/\u001b[39m SAMPLE_RATE), samples[\u001b[39m0\u001b[39m][\u001b[39m0\u001b[39m]\u001b[39m.\u001b[39mnumpy())\n\u001b[0;32m      4\u001b[0m plt\u001b[39m.\u001b[39mshow()\n",
      "\u001b[1;31mTypeError\u001b[0m: Judge.__init__() missing 1 required positional argument: 'k'"
     ]
    }
   ],
   "source": [
    "samples, targets, labels = next(iter(dataloader))\n",
    "model = Judge()\n",
    "plt.plot(np.arange(0, 3, 1 / SAMPLE_RATE), samples[0][0].numpy())\n",
    "plt.show()\n",
    "plt.plot(np.arange(0, 3, 1 / SAMPLE_RATE), samples[0][1].numpy())\n",
    "plt.show()\n",
    "plt.plot(np.arange(0, 3, 1 / SAMPLE_RATE), samples[0][2].numpy())\n",
    "plt.show()\n",
    "plt.plot(np.arange(0, 3, 1 / SAMPLE_RATE), targets[0][0].numpy())\n",
    "plt.show()\n",
    "print(model(samples[0], targets[0]))\n",
    "print(model(samples[1], targets[1]))"
   ]
  },
  {
   "cell_type": "code",
   "execution_count": 10,
   "metadata": {},
   "outputs": [
    {
     "name": "stdout",
     "output_type": "stream",
     "text": [
      "torch.Size([4, 10, 72000]) torch.Size([4, 10, 72000])\n",
      "tensor([[0.0999, 0.1000, 0.1001, 0.1001, 0.0999, 0.1000, 0.1000, 0.1001, 0.1000,\n",
      "         0.1000],\n",
      "        [0.1000, 0.0999, 0.1000, 0.1000, 0.1000, 0.1000, 0.1000, 0.1000, 0.1000,\n",
      "         0.1000],\n",
      "        [0.0999, 0.1000, 0.1000, 0.1000, 0.1000, 0.1000, 0.1000, 0.1000, 0.1000,\n",
      "         0.1000],\n",
      "        [0.0999, 0.0999, 0.1000, 0.1001, 0.1000, 0.1000, 0.1000, 0.1001, 0.1000,\n",
      "         0.0999]], grad_fn=<SoftmaxBackward0>)\n",
      "tensor([[0., 0., 0., 0., 0., 0., 1., 0., 0., 0.],\n",
      "        [0., 0., 0., 0., 0., 0., 0., 0., 1., 0.],\n",
      "        [0., 0., 1., 0., 0., 0., 0., 0., 0., 0.],\n",
      "        [0., 0., 1., 0., 0., 0., 0., 0., 0., 0.]])\n",
      "tensor(2.3026, grad_fn=<DivBackward1>)\n"
     ]
    }
   ],
   "source": [
    "samples, targets, labels = next(iter(dataloader))\n",
    "model = Model(dataset.k)\n",
    "loss_fn = nn.CrossEntropyLoss()\n",
    "outputs = model(samples, targets)\n",
    "print(samples.shape, targets.shape)\n",
    "print(outputs)\n",
    "print(labels)\n",
    "print(loss_fn(outputs, labels))"
   ]
  },
  {
   "cell_type": "code",
   "execution_count": 11,
   "metadata": {},
   "outputs": [
    {
     "ename": "ImportError",
     "evalue": "IProgress not found. Please update jupyter and ipywidgets. See https://ipywidgets.readthedocs.io/en/stable/user_install.html",
     "output_type": "error",
     "traceback": [
      "\u001b[1;31m---------------------------------------------------------------------------\u001b[0m",
      "\u001b[1;31mImportError\u001b[0m                               Traceback (most recent call last)",
      "Cell \u001b[1;32mIn[11], line 1\u001b[0m\n\u001b[1;32m----> 1\u001b[0m \u001b[39mfor\u001b[39;00m _ \u001b[39min\u001b[39;00m tqdm(\u001b[39mrange\u001b[39m(\u001b[39m100\u001b[39m)): samples, targets, labels \u001b[39m=\u001b[39m \u001b[39mnext\u001b[39m(\u001b[39miter\u001b[39m(dataloader))\n",
      "File \u001b[1;32md:\\Code\\cs2b\\AI\\.venv\\lib\\site-packages\\tqdm\\notebook.py:238\u001b[0m, in \u001b[0;36mtqdm_notebook.__init__\u001b[1;34m(self, *args, **kwargs)\u001b[0m\n\u001b[0;32m    236\u001b[0m unit_scale \u001b[39m=\u001b[39m \u001b[39m1\u001b[39m \u001b[39mif\u001b[39;00m \u001b[39mself\u001b[39m\u001b[39m.\u001b[39munit_scale \u001b[39mis\u001b[39;00m \u001b[39mTrue\u001b[39;00m \u001b[39melse\u001b[39;00m \u001b[39mself\u001b[39m\u001b[39m.\u001b[39munit_scale \u001b[39mor\u001b[39;00m \u001b[39m1\u001b[39m\n\u001b[0;32m    237\u001b[0m total \u001b[39m=\u001b[39m \u001b[39mself\u001b[39m\u001b[39m.\u001b[39mtotal \u001b[39m*\u001b[39m unit_scale \u001b[39mif\u001b[39;00m \u001b[39mself\u001b[39m\u001b[39m.\u001b[39mtotal \u001b[39melse\u001b[39;00m \u001b[39mself\u001b[39m\u001b[39m.\u001b[39mtotal\n\u001b[1;32m--> 238\u001b[0m \u001b[39mself\u001b[39m\u001b[39m.\u001b[39mcontainer \u001b[39m=\u001b[39m \u001b[39mself\u001b[39;49m\u001b[39m.\u001b[39;49mstatus_printer(\u001b[39mself\u001b[39;49m\u001b[39m.\u001b[39;49mfp, total, \u001b[39mself\u001b[39;49m\u001b[39m.\u001b[39;49mdesc, \u001b[39mself\u001b[39;49m\u001b[39m.\u001b[39;49mncols)\n\u001b[0;32m    239\u001b[0m \u001b[39mself\u001b[39m\u001b[39m.\u001b[39mcontainer\u001b[39m.\u001b[39mpbar \u001b[39m=\u001b[39m proxy(\u001b[39mself\u001b[39m)\n\u001b[0;32m    240\u001b[0m \u001b[39mself\u001b[39m\u001b[39m.\u001b[39mdisplayed \u001b[39m=\u001b[39m \u001b[39mFalse\u001b[39;00m\n",
      "File \u001b[1;32md:\\Code\\cs2b\\AI\\.venv\\lib\\site-packages\\tqdm\\notebook.py:113\u001b[0m, in \u001b[0;36mtqdm_notebook.status_printer\u001b[1;34m(_, total, desc, ncols)\u001b[0m\n\u001b[0;32m    104\u001b[0m \u001b[39m# Fallback to text bar if there's no total\u001b[39;00m\n\u001b[0;32m    105\u001b[0m \u001b[39m# DEPRECATED: replaced with an 'info' style bar\u001b[39;00m\n\u001b[0;32m    106\u001b[0m \u001b[39m# if not total:\u001b[39;00m\n\u001b[1;32m   (...)\u001b[0m\n\u001b[0;32m    110\u001b[0m \n\u001b[0;32m    111\u001b[0m \u001b[39m# Prepare IPython progress bar\u001b[39;00m\n\u001b[0;32m    112\u001b[0m \u001b[39mif\u001b[39;00m IProgress \u001b[39mis\u001b[39;00m \u001b[39mNone\u001b[39;00m:  \u001b[39m# #187 #451 #558 #872\u001b[39;00m\n\u001b[1;32m--> 113\u001b[0m     \u001b[39mraise\u001b[39;00m \u001b[39mImportError\u001b[39;00m(WARN_NOIPYW)\n\u001b[0;32m    114\u001b[0m \u001b[39mif\u001b[39;00m total:\n\u001b[0;32m    115\u001b[0m     pbar \u001b[39m=\u001b[39m IProgress(\u001b[39mmin\u001b[39m\u001b[39m=\u001b[39m\u001b[39m0\u001b[39m, \u001b[39mmax\u001b[39m\u001b[39m=\u001b[39mtotal)\n",
      "\u001b[1;31mImportError\u001b[0m: IProgress not found. Please update jupyter and ipywidgets. See https://ipywidgets.readthedocs.io/en/stable/user_install.html"
     ]
    }
   ],
   "source": [
    "for _ in tqdm(range(100)): samples, targets, labels = next(iter(dataloader))"
   ]
  },
  {
   "cell_type": "code",
   "execution_count": 12,
   "metadata": {},
   "outputs": [
    {
     "name": "stdout",
     "output_type": "stream",
     "text": [
      "100/50000:\t2.3026\n",
      "200/50000:\t2.3026\n",
      "300/50000:\t2.3026\n",
      "400/50000:\t2.3026\n",
      "500/50000:\t2.3026\n",
      "600/50000:\t2.3024\n",
      "700/50000:\t2.2999\n",
      "800/50000:\t2.2923\n",
      "900/50000:\t2.2836\n",
      "1000/50000:\t2.2864\n",
      "1100/50000:\t2.2762\n",
      "1200/50000:\t2.2768\n",
      "1300/50000:\t2.2738\n",
      "1400/50000:\t2.2695\n",
      "1500/50000:\t2.2673\n",
      "1600/50000:\t2.2642\n",
      "1700/50000:\t2.2564\n",
      "1800/50000:\t2.2534\n",
      "1900/50000:\t2.2520\n",
      "2000/50000:\t2.2476\n",
      "2100/50000:\t2.2467\n",
      "2200/50000:\t2.2442\n",
      "2300/50000:\t2.2398\n",
      "2400/50000:\t2.2433\n",
      "2500/50000:\t2.2433\n",
      "2600/50000:\t2.2421\n",
      "2700/50000:\t2.2431\n",
      "2800/50000:\t2.2403\n",
      "2900/50000:\t2.2383\n",
      "3000/50000:\t2.2377\n",
      "3100/50000:\t2.2373\n",
      "3200/50000:\t2.2359\n",
      "3300/50000:\t2.2340\n",
      "3400/50000:\t2.2384\n",
      "3500/50000:\t2.2369\n",
      "3600/50000:\t2.2353\n",
      "3700/50000:\t2.2314\n",
      "3800/50000:\t2.2326\n",
      "3900/50000:\t2.2299\n",
      "4000/50000:\t2.2308\n",
      "4100/50000:\t2.2322\n",
      "4200/50000:\t2.2308\n",
      "4300/50000:\t2.2296\n",
      "4400/50000:\t2.2294\n",
      "4500/50000:\t2.2303\n",
      "4600/50000:\t2.2304\n",
      "4700/50000:\t2.2376\n",
      "4800/50000:\t2.2287\n",
      "4900/50000:\t2.2268\n",
      "5000/50000:\t2.2267\n",
      "5100/50000:\t2.2262\n",
      "5200/50000:\t2.2304\n",
      "5300/50000:\t2.2280\n",
      "5400/50000:\t2.2289\n",
      "5500/50000:\t2.2265\n",
      "5600/50000:\t2.2263\n",
      "5700/50000:\t2.2266\n",
      "5800/50000:\t2.2282\n",
      "5900/50000:\t2.2206\n",
      "6000/50000:\t2.2206\n",
      "6100/50000:\t2.2245\n",
      "6200/50000:\t2.2224\n",
      "6300/50000:\t2.2287\n",
      "6400/50000:\t2.2252\n",
      "6500/50000:\t2.2212\n",
      "6600/50000:\t2.2205\n",
      "6700/50000:\t2.2204\n",
      "6800/50000:\t2.2249\n",
      "6900/50000:\t2.2241\n",
      "7000/50000:\t2.2210\n",
      "7100/50000:\t2.2260\n",
      "7200/50000:\t2.2202\n",
      "7300/50000:\t2.2253\n",
      "7400/50000:\t2.2244\n",
      "7500/50000:\t2.2197\n",
      "7600/50000:\t2.2330\n",
      "7700/50000:\t2.2206\n",
      "7800/50000:\t2.2231\n",
      "7900/50000:\t2.2215\n",
      "8000/50000:\t2.2199\n",
      "8100/50000:\t2.2199\n",
      "8200/50000:\t2.2207\n",
      "8300/50000:\t2.2229\n",
      "8400/50000:\t2.2190\n",
      "8500/50000:\t2.2236\n",
      "8600/50000:\t2.2208\n",
      "8700/50000:\t2.2199\n",
      "8800/50000:\t2.2193\n",
      "8900/50000:\t2.2159\n",
      "9000/50000:\t2.2231\n",
      "9100/50000:\t2.2160\n",
      "9200/50000:\t2.2178\n",
      "9300/50000:\t2.2192\n",
      "9400/50000:\t2.2194\n",
      "9500/50000:\t2.2158\n",
      "9600/50000:\t2.2231\n",
      "9700/50000:\t2.2435\n",
      "9800/50000:\t2.2176\n",
      "9900/50000:\t2.2293\n",
      "10000/50000:\t2.2163\n",
      "10100/50000:\t2.2188\n",
      "10200/50000:\t2.2171\n",
      "10300/50000:\t2.2186\n",
      "10400/50000:\t2.2195\n",
      "10500/50000:\t2.2229\n",
      "10600/50000:\t2.2140\n",
      "10700/50000:\t2.2157\n",
      "10800/50000:\t2.2184\n",
      "10900/50000:\t2.2153\n",
      "11000/50000:\t2.2157\n",
      "11100/50000:\t2.2145\n",
      "11200/50000:\t2.2155\n",
      "11300/50000:\t2.2142\n",
      "11400/50000:\t2.2127\n",
      "11500/50000:\t2.2160\n",
      "11600/50000:\t2.2198\n",
      "11700/50000:\t2.2171\n",
      "11800/50000:\t2.2166\n",
      "11900/50000:\t2.2124\n",
      "12000/50000:\t2.2182\n",
      "12100/50000:\t2.2220\n",
      "12200/50000:\t2.2124\n",
      "12300/50000:\t2.2154\n",
      "12400/50000:\t2.2183\n",
      "12500/50000:\t2.2127\n",
      "12600/50000:\t2.2130\n",
      "12700/50000:\t2.2145\n",
      "12800/50000:\t2.2136\n",
      "12900/50000:\t2.2131\n",
      "13000/50000:\t2.2126\n",
      "13100/50000:\t2.2195\n",
      "13200/50000:\t2.2153\n",
      "13300/50000:\t2.2144\n",
      "13400/50000:\t2.2145\n",
      "13500/50000:\t2.2154\n",
      "13600/50000:\t2.2119\n",
      "13700/50000:\t2.2130\n",
      "13800/50000:\t2.2108\n",
      "13900/50000:\t2.2167\n",
      "14000/50000:\t2.2174\n",
      "14100/50000:\t2.2161\n",
      "14200/50000:\t2.2140\n",
      "14300/50000:\t2.2140\n",
      "14400/50000:\t2.2161\n",
      "14500/50000:\t2.2169\n",
      "14600/50000:\t2.2121\n",
      "14700/50000:\t2.2146\n",
      "14800/50000:\t2.2128\n",
      "14900/50000:\t2.2139\n",
      "15000/50000:\t2.2119\n",
      "15100/50000:\t2.2081\n",
      "15200/50000:\t2.2134\n",
      "15300/50000:\t2.2095\n",
      "15400/50000:\t2.2145\n",
      "15500/50000:\t2.2181\n",
      "15600/50000:\t2.2120\n",
      "15700/50000:\t2.2155\n",
      "15800/50000:\t2.2136\n",
      "15900/50000:\t2.2137\n",
      "16000/50000:\t2.2114\n",
      "16100/50000:\t2.2090\n",
      "16200/50000:\t2.2168\n",
      "16300/50000:\t2.2093\n",
      "16400/50000:\t2.2058\n",
      "16500/50000:\t2.2109\n",
      "16600/50000:\t2.2118\n",
      "16700/50000:\t2.2093\n",
      "16800/50000:\t2.2121\n",
      "16900/50000:\t2.2204\n",
      "17000/50000:\t2.2116\n",
      "17100/50000:\t2.2160\n",
      "17200/50000:\t2.2092\n",
      "17300/50000:\t2.2084\n",
      "17400/50000:\t2.2132\n",
      "17500/50000:\t2.2072\n",
      "17600/50000:\t2.2087\n",
      "17700/50000:\t2.2113\n",
      "17800/50000:\t2.2088\n",
      "17900/50000:\t2.2088\n",
      "18000/50000:\t2.2104\n",
      "18100/50000:\t2.2101\n",
      "18200/50000:\t2.2105\n",
      "18300/50000:\t2.2101\n",
      "18400/50000:\t2.2108\n",
      "18500/50000:\t2.2129\n",
      "18600/50000:\t2.2108\n",
      "18700/50000:\t2.2096\n",
      "18800/50000:\t2.2123\n",
      "18900/50000:\t2.2102\n",
      "19000/50000:\t2.2107\n",
      "19100/50000:\t2.2063\n",
      "19200/50000:\t2.2093\n",
      "19300/50000:\t2.2085\n",
      "19400/50000:\t2.2094\n",
      "19500/50000:\t2.2102\n",
      "19600/50000:\t2.2064\n",
      "19700/50000:\t2.2122\n",
      "19800/50000:\t2.2110\n",
      "19900/50000:\t2.2138\n",
      "20000/50000:\t2.2076\n",
      "20100/50000:\t2.2077\n",
      "20200/50000:\t2.2117\n",
      "20300/50000:\t2.2066\n",
      "20400/50000:\t2.2078\n",
      "20500/50000:\t2.2110\n",
      "20600/50000:\t2.2109\n",
      "20700/50000:\t2.2098\n",
      "20800/50000:\t2.2076\n",
      "20900/50000:\t2.2068\n",
      "21000/50000:\t2.2058\n",
      "21100/50000:\t2.2078\n",
      "21200/50000:\t2.2106\n",
      "21300/50000:\t2.2176\n",
      "21400/50000:\t2.2070\n",
      "21500/50000:\t2.2114\n",
      "21600/50000:\t2.2108\n",
      "21700/50000:\t2.2058\n",
      "21800/50000:\t2.2101\n",
      "21900/50000:\t2.2054\n",
      "22000/50000:\t2.2097\n",
      "22100/50000:\t2.2109\n",
      "22200/50000:\t2.2063\n",
      "22300/50000:\t2.2074\n",
      "22400/50000:\t2.2078\n",
      "22500/50000:\t2.2072\n",
      "22600/50000:\t2.2048\n",
      "22700/50000:\t2.2057\n",
      "22800/50000:\t2.2011\n",
      "22900/50000:\t2.2062\n",
      "23000/50000:\t2.2074\n",
      "23100/50000:\t2.2092\n",
      "23200/50000:\t2.2092\n",
      "23300/50000:\t2.2084\n",
      "23400/50000:\t2.2113\n",
      "23500/50000:\t2.2037\n",
      "23600/50000:\t2.2073\n",
      "23700/50000:\t2.2088\n",
      "23800/50000:\t2.2107\n",
      "23900/50000:\t2.2064\n",
      "24000/50000:\t2.2074\n",
      "24100/50000:\t2.2088\n",
      "24200/50000:\t2.2074\n",
      "24300/50000:\t2.2063\n",
      "24400/50000:\t2.2037\n",
      "24500/50000:\t2.2040\n",
      "24600/50000:\t2.2111\n",
      "24700/50000:\t2.2119\n",
      "24800/50000:\t2.2030\n",
      "24900/50000:\t2.2055\n",
      "25000/50000:\t2.2014\n",
      "25100/50000:\t2.2030\n",
      "25200/50000:\t2.2035\n",
      "25300/50000:\t2.2067\n",
      "25400/50000:\t2.2022\n",
      "25500/50000:\t2.2104\n",
      "25600/50000:\t2.2109\n",
      "25700/50000:\t2.2100\n",
      "25800/50000:\t2.2073\n",
      "25900/50000:\t2.2051\n",
      "26000/50000:\t2.2046\n",
      "26100/50000:\t2.2104\n",
      "26200/50000:\t2.2084\n",
      "26300/50000:\t2.2028\n",
      "26400/50000:\t2.2069\n",
      "26500/50000:\t2.2103\n",
      "26600/50000:\t2.2040\n",
      "26700/50000:\t2.2095\n",
      "26800/50000:\t2.2043\n",
      "26900/50000:\t2.2122\n",
      "27000/50000:\t2.2056\n",
      "27100/50000:\t2.2080\n",
      "27200/50000:\t2.2021\n",
      "27300/50000:\t2.2048\n",
      "27400/50000:\t2.2023\n",
      "27500/50000:\t2.2015\n",
      "27600/50000:\t2.2029\n",
      "27700/50000:\t2.2054\n",
      "27800/50000:\t2.2049\n",
      "27900/50000:\t2.2009\n",
      "28000/50000:\t2.2062\n",
      "28100/50000:\t2.2081\n",
      "28200/50000:\t2.2042\n",
      "28300/50000:\t2.2039\n",
      "28400/50000:\t2.2028\n",
      "28500/50000:\t2.2026\n",
      "28600/50000:\t2.2033\n",
      "28700/50000:\t2.2063\n",
      "28800/50000:\t2.2022\n",
      "28900/50000:\t2.2031\n",
      "29000/50000:\t2.2035\n",
      "29100/50000:\t2.2104\n",
      "29200/50000:\t2.2035\n",
      "29300/50000:\t2.2036\n",
      "29400/50000:\t2.2090\n",
      "29500/50000:\t2.2097\n",
      "29600/50000:\t2.2063\n",
      "29700/50000:\t2.2000\n",
      "29800/50000:\t2.2016\n",
      "29900/50000:\t2.2067\n",
      "30000/50000:\t2.2074\n",
      "30100/50000:\t2.2017\n",
      "30200/50000:\t2.2054\n",
      "30300/50000:\t2.2061\n",
      "30400/50000:\t2.2087\n",
      "30500/50000:\t2.2029\n",
      "30600/50000:\t2.2027\n",
      "30700/50000:\t2.2000\n",
      "30800/50000:\t2.2037\n",
      "30900/50000:\t2.2027\n",
      "31000/50000:\t2.2004\n",
      "31100/50000:\t2.2073\n",
      "31200/50000:\t2.2043\n",
      "31300/50000:\t2.2036\n",
      "31400/50000:\t2.2035\n",
      "31500/50000:\t2.2013\n",
      "31600/50000:\t2.2048\n",
      "31700/50000:\t2.2010\n",
      "31800/50000:\t2.2019\n",
      "31900/50000:\t2.2110\n",
      "32000/50000:\t2.2042\n",
      "32100/50000:\t2.2026\n",
      "32200/50000:\t2.2027\n",
      "32300/50000:\t2.1979\n",
      "32400/50000:\t2.2010\n",
      "32500/50000:\t2.2018\n",
      "32600/50000:\t2.2041\n",
      "32700/50000:\t2.2014\n",
      "32800/50000:\t2.2047\n",
      "32900/50000:\t2.1992\n",
      "33000/50000:\t2.1998\n",
      "33100/50000:\t2.2036\n",
      "33200/50000:\t2.2026\n",
      "33300/50000:\t2.2018\n",
      "33400/50000:\t2.2053\n",
      "33500/50000:\t2.2053\n",
      "33600/50000:\t2.2155\n",
      "33700/50000:\t2.2014\n",
      "33800/50000:\t2.2016\n",
      "33900/50000:\t2.2063\n",
      "34000/50000:\t2.2202\n",
      "34100/50000:\t2.2115\n",
      "34200/50000:\t2.2012\n",
      "34300/50000:\t2.2160\n",
      "34400/50000:\t2.2023\n",
      "34500/50000:\t2.2011\n",
      "34600/50000:\t2.2051\n",
      "34700/50000:\t2.2024\n",
      "34800/50000:\t2.1998\n",
      "34900/50000:\t2.2064\n",
      "35000/50000:\t2.2043\n",
      "35100/50000:\t2.2059\n",
      "35200/50000:\t2.2014\n",
      "35300/50000:\t2.2064\n",
      "35400/50000:\t2.2077\n",
      "35500/50000:\t2.2324\n",
      "35600/50000:\t2.2212\n",
      "35700/50000:\t2.2019\n",
      "35800/50000:\t2.2013\n",
      "35900/50000:\t2.2029\n",
      "36000/50000:\t2.1996\n",
      "36100/50000:\t2.1973\n",
      "36200/50000:\t2.2046\n",
      "36300/50000:\t2.1996\n",
      "36400/50000:\t2.2007\n",
      "36500/50000:\t2.2010\n",
      "36600/50000:\t2.1985\n",
      "36700/50000:\t2.2011\n",
      "36800/50000:\t2.1979\n",
      "36900/50000:\t2.2015\n",
      "37000/50000:\t2.1990\n",
      "37100/50000:\t2.1957\n",
      "37200/50000:\t2.1986\n",
      "37300/50000:\t2.2051\n",
      "37400/50000:\t2.2009\n",
      "37500/50000:\t2.2001\n",
      "37600/50000:\t2.1991\n",
      "37700/50000:\t2.1963\n",
      "37800/50000:\t2.2059\n",
      "37900/50000:\t2.1985\n",
      "38000/50000:\t2.1995\n",
      "38100/50000:\t2.2008\n",
      "38200/50000:\t2.1972\n",
      "38300/50000:\t2.2008\n",
      "38400/50000:\t2.2068\n",
      "38500/50000:\t2.1997\n",
      "38600/50000:\t2.2026\n",
      "38700/50000:\t2.2039\n",
      "38800/50000:\t2.1998\n",
      "38900/50000:\t2.1983\n",
      "39000/50000:\t2.1986\n",
      "39100/50000:\t2.1991\n",
      "39200/50000:\t2.2007\n",
      "39300/50000:\t2.1959\n",
      "39400/50000:\t2.1977\n",
      "39500/50000:\t2.2003\n",
      "39600/50000:\t2.1969\n",
      "39700/50000:\t2.1978\n",
      "39800/50000:\t2.1992\n",
      "39900/50000:\t2.1989\n",
      "40000/50000:\t2.1978\n",
      "40100/50000:\t2.1993\n",
      "40200/50000:\t2.1991\n",
      "40300/50000:\t2.1959\n",
      "40400/50000:\t2.2005\n",
      "40500/50000:\t2.2030\n",
      "40600/50000:\t2.2046\n",
      "40700/50000:\t2.2072\n",
      "40800/50000:\t2.1995\n",
      "40900/50000:\t2.1989\n",
      "41000/50000:\t2.1943\n",
      "41100/50000:\t2.2146\n",
      "41200/50000:\t2.2049\n",
      "41300/50000:\t2.2045\n",
      "41400/50000:\t2.2005\n",
      "41500/50000:\t2.2084\n",
      "41600/50000:\t2.2034\n",
      "41700/50000:\t2.2004\n",
      "41800/50000:\t2.1998\n",
      "41900/50000:\t2.1971\n",
      "42000/50000:\t2.1966\n",
      "42100/50000:\t2.1987\n",
      "42200/50000:\t2.2016\n",
      "42300/50000:\t2.1969\n",
      "42400/50000:\t2.1931\n",
      "42500/50000:\t2.1974\n",
      "42600/50000:\t2.1974\n",
      "42700/50000:\t2.1966\n",
      "42800/50000:\t2.1998\n",
      "42900/50000:\t2.2051\n",
      "43000/50000:\t2.2074\n",
      "43100/50000:\t2.1978\n",
      "43200/50000:\t2.2024\n",
      "43300/50000:\t2.2038\n",
      "43400/50000:\t2.2066\n",
      "43500/50000:\t2.2000\n",
      "43600/50000:\t2.2011\n",
      "43700/50000:\t2.1997\n",
      "43800/50000:\t2.1980\n",
      "43900/50000:\t2.1951\n",
      "44000/50000:\t2.2011\n",
      "44100/50000:\t2.1998\n",
      "44200/50000:\t2.1997\n",
      "44300/50000:\t2.2033\n",
      "44400/50000:\t2.1998\n",
      "44500/50000:\t2.2008\n",
      "44600/50000:\t2.1978\n",
      "44700/50000:\t2.2047\n",
      "44800/50000:\t2.2018\n",
      "44900/50000:\t2.2001\n",
      "45000/50000:\t2.1982\n",
      "45100/50000:\t2.2010\n",
      "45200/50000:\t2.1971\n",
      "45300/50000:\t2.2026\n",
      "45400/50000:\t2.2012\n",
      "45500/50000:\t2.1995\n",
      "45600/50000:\t2.2032\n",
      "45700/50000:\t2.2007\n",
      "45800/50000:\t2.1941\n",
      "45900/50000:\t2.1946\n",
      "46000/50000:\t2.1960\n",
      "46100/50000:\t2.1946\n",
      "46200/50000:\t2.1967\n",
      "46300/50000:\t2.1968\n",
      "46400/50000:\t2.1964\n",
      "46500/50000:\t2.1939\n",
      "46600/50000:\t2.2042\n",
      "46700/50000:\t2.2018\n",
      "46800/50000:\t2.1998\n",
      "46900/50000:\t2.1995\n",
      "47000/50000:\t2.2030\n",
      "47100/50000:\t2.2021\n",
      "47200/50000:\t2.1968\n",
      "47300/50000:\t2.1990\n",
      "47400/50000:\t2.1946\n",
      "47500/50000:\t2.1960\n",
      "47600/50000:\t2.1993\n",
      "47700/50000:\t2.1960\n",
      "47800/50000:\t2.1967\n",
      "47900/50000:\t2.1957\n",
      "48000/50000:\t2.2080\n",
      "48100/50000:\t2.1993\n",
      "48200/50000:\t2.1957\n",
      "48300/50000:\t2.1965\n",
      "48400/50000:\t2.1971\n",
      "48500/50000:\t2.1960\n",
      "48600/50000:\t2.1996\n",
      "48700/50000:\t2.2019\n",
      "48800/50000:\t2.1948\n",
      "48900/50000:\t2.1966\n",
      "49000/50000:\t2.1957\n",
      "49100/50000:\t2.1991\n",
      "49200/50000:\t2.2002\n",
      "49300/50000:\t2.1965\n",
      "49400/50000:\t2.1995\n",
      "49500/50000:\t2.1984\n",
      "49600/50000:\t2.1952\n",
      "49700/50000:\t2.1977\n",
      "49800/50000:\t2.1999\n",
      "49900/50000:\t2.1969\n",
      "50000/50000:\t2.1961\n",
      "Training Ended!\n"
     ]
    }
   ],
   "source": [
    "torch.backends.cudnn.benchmark = True\n",
    "device = \"cuda\" if torch.cuda.is_available() else \"cpu\"\n",
    "\n",
    "model = Model(dataset.k)\n",
    "optimizer = optim.Adam(model.parameters(), lr=3e-5, weight_decay=1e-5)\n",
    "loss_fn = nn.CrossEntropyLoss()\n",
    "losses = []\n",
    "\n",
    "model.train()\n",
    "\n",
    "if device == \"cuda\": model.cuda()\n",
    "for step in range(1, NUM_STEPS + 1):\n",
    "  optimizer.zero_grad()\n",
    "  samples, targets, labels = next(iter(dataloader))\n",
    "  outputs = model(samples.to(device), targets.to(device))\n",
    "  loss = loss_fn(outputs.to(device), labels.to(device))\n",
    "  losses.append(loss.item())\n",
    "  loss.backward()\n",
    "  optimizer.step()\n",
    "  if step % 100 == 0:\n",
    "    print(f\"{step}/{NUM_STEPS}:\\t{np.mean(losses):.4f}\")\n",
    "    losses = []\n",
    "print(\"Training Ended!\")"
   ]
  },
  {
   "cell_type": "code",
   "execution_count": null,
   "metadata": {},
   "outputs": [],
   "source": [
    "with torch.no_grad():\n",
    "  t = load_voice(\"./data/bark/man-2.wav\")\n",
    "  samples, targets = dataset.get_selected(t)\n",
    "  outputs = model(samples.to(device).unsqueeze(0), targets.to(device).unsqueeze(0))\n",
    "  print(np.round(outputs.cpu().numpy(), 3))\n",
    "  print(outputs.cpu().numpy().argmax() + 1)\n",
    "  pprint(dataset.base_map)\n",
    "  display(Audio(samples[0], rate=SAMPLE_RATE))\n",
    "  display(Audio(targets[0], rate=SAMPLE_RATE))\n",
    "  display(Audio(samples[1], rate=SAMPLE_RATE))\n",
    "  display(Audio(targets[1], rate=SAMPLE_RATE))\n",
    "  # display(Audio(samples[2], rate=SAMPLE_RATE))\n",
    "  # display(Audio(targets[2], rate=SAMPLE_RATE))"
   ]
  },
  {
   "cell_type": "code",
   "execution_count": 22,
   "metadata": {},
   "outputs": [
    {
     "name": "stdout",
     "output_type": "stream",
     "text": [
      "10\n"
     ]
    },
    {
     "name": "stderr",
     "output_type": "stream",
     "text": [
      "100%|██████████| 1000/1000 [00:14<00:00, 71.13it/s]\n"
     ]
    },
    {
     "data": {
      "text/plain": [
       "array([[0.20846986, 0.08443506, 0.08480423, 0.11026284, 0.08953947,\n",
       "        0.08473878, 0.08443506, 0.08443506, 0.08443506, 0.08444456]])"
      ]
     },
     "metadata": {},
     "output_type": "display_data"
    },
    {
     "data": {
      "text/plain": [
       "array([892.,   0.,   2.,  87.,  18.,   1.,   0.,   0.,   0.,   0.])"
      ]
     },
     "metadata": {},
     "output_type": "display_data"
    },
    {
     "data": {
      "image/png": "[encoded data removed]",
      "text/plain": [
       "<Figure size 640x480 with 1 Axes>"
      ]
     },
     "metadata": {},
     "output_type": "display_data"
    },
    {
     "name": "stderr",
     "output_type": "stream",
     "text": [
      "100%|██████████| 1000/1000 [00:13<00:00, 72.69it/s]\n"
     ]
    },
    {
     "data": {
      "text/plain": [
       "array([[0.07514576, 0.20397796, 0.19485588, 0.07514576, 0.07514576,\n",
       "        0.07514576, 0.07514576, 0.07514576, 0.07514576, 0.07514576]])"
      ]
     },
     "metadata": {},
     "output_type": "display_data"
    },
    {
     "data": {
      "text/plain": [
       "array([  0., 991.,   9.,   0.,   0.,   0.,   0.,   0.,   0.,   0.])"
      ]
     },
     "metadata": {},
     "output_type": "display_data"
    },
    {
     "data": {
      "image/png": "[encoded data removed]",
      "text/plain": [
       "<Figure size 640x480 with 1 Axes>"
      ]
     },
     "metadata": {},
     "output_type": "display_data"
    },
    {
     "name": "stderr",
     "output_type": "stream",
     "text": [
      "100%|██████████| 1000/1000 [00:13<00:00, 71.44it/s]\n"
     ]
    },
    {
     "data": {
      "text/plain": [
       "array([[0.07542179, 0.20046839, 0.19647768, 0.07503786, 0.07740492,\n",
       "        0.07503786, 0.07503786, 0.07503786, 0.07503786, 0.07503786]])"
      ]
     },
     "metadata": {},
     "output_type": "display_data"
    },
    {
     "data": {
      "text/plain": [
       "array([  1., 969.,  29.,   0.,   1.,   0.,   0.,   0.,   0.,   0.])"
      ]
     },
     "metadata": {},
     "output_type": "display_data"
    },
    {
     "data": {
      "image/png": "[encoded data removed]",
      "text/plain": [
       "<Figure size 640x480 with 1 Axes>"
      ]
     },
     "metadata": {},
     "output_type": "display_data"
    },
    {
     "name": "stderr",
     "output_type": "stream",
     "text": [
      "100%|██████████| 1000/1000 [00:14<00:00, 70.54it/s]\n"
     ]
    },
    {
     "data": {
      "text/plain": [
       "array([[0.09380149, 0.08479578, 0.08479578, 0.22618659, 0.08503135,\n",
       "        0.08620589, 0.08479578, 0.08479578, 0.08479578, 0.08479578]])"
      ]
     },
     "metadata": {},
     "output_type": "display_data"
    },
    {
     "data": {
      "text/plain": [
       "array([ 24.,   0.,   0., 971.,   0.,   5.,   0.,   0.,   0.,   0.])"
      ]
     },
     "metadata": {},
     "output_type": "display_data"
    },
    {
     "data": {
      "image/png": "[encoded data removed]",
      "text/plain": [
       "<Figure size 640x480 with 1 Axes>"
      ]
     },
     "metadata": {},
     "output_type": "display_data"
    },
    {
     "name": "stderr",
     "output_type": "stream",
     "text": [
      "100%|██████████| 1000/1000 [00:14<00:00, 71.32it/s]\n"
     ]
    },
    {
     "data": {
      "text/plain": [
       "array([[0.08774491, 0.08573605, 0.08930135, 0.08560836, 0.22356758,\n",
       "        0.08560836, 0.08560836, 0.08560836, 0.08560836, 0.08560836]])"
      ]
     },
     "metadata": {},
     "output_type": "display_data"
    },
    {
     "data": {
      "text/plain": [
       "array([ 20.,   0.,  17.,   0., 963.,   0.,   0.,   0.,   0.,   0.])"
      ]
     },
     "metadata": {},
     "output_type": "display_data"
    },
    {
     "data": {
      "image/png": "[encoded data removed]",
      "text/plain": [
       "<Figure size 640x480 with 1 Axes>"
      ]
     },
     "metadata": {},
     "output_type": "display_data"
    },
    {
     "name": "stderr",
     "output_type": "stream",
     "text": [
      "100%|██████████| 1000/1000 [00:14<00:00, 68.77it/s]\n"
     ]
    },
    {
     "data": {
      "text/plain": [
       "array([[0.0855954 , 0.08519383, 0.08519384, 0.08608038, 0.08544068,\n",
       "        0.22534573, 0.08545062, 0.08530721, 0.08869868, 0.08769364]])"
      ]
     },
     "metadata": {},
     "output_type": "display_data"
    },
    {
     "data": {
      "text/plain": [
       "array([  2.,   0.,   0.,  11.,   1., 949.,   2.,   1.,  19.,  15.])"
      ]
     },
     "metadata": {},
     "output_type": "display_data"
    },
    {
     "data": {
      "image/png": "[encoded data removed]",
      "text/plain": [
       "<Figure size 640x480 with 1 Axes>"
      ]
     },
     "metadata": {},
     "output_type": "display_data"
    },
    {
     "name": "stderr",
     "output_type": "stream",
     "text": [
      "100%|██████████| 1000/1000 [00:14<00:00, 70.96it/s]\n"
     ]
    },
    {
     "data": {
      "text/plain": [
       "array([[0.07344682, 0.07314134, 0.07349361, 0.07314134, 0.07380429,\n",
       "        0.07353177, 0.15128449, 0.1473604 , 0.13229166, 0.12850425]])"
      ]
     },
     "metadata": {},
     "output_type": "display_data"
    },
    {
     "data": {
      "text/plain": [
       "array([  7.,   0.,   3.,   0.,   4.,   3., 555., 199., 179.,  50.])"
      ]
     },
     "metadata": {},
     "output_type": "display_data"
    },
    {
     "data": {
      "image/png": "[encoded data removed]",
      "text/plain": [
       "<Figure size 640x480 with 1 Axes>"
      ]
     },
     "metadata": {},
     "output_type": "display_data"
    },
    {
     "name": "stderr",
     "output_type": "stream",
     "text": [
      "100%|██████████| 1000/1000 [00:13<00:00, 71.85it/s]\n"
     ]
    },
    {
     "data": {
      "text/plain": [
       "array([[0.07500483, 0.07500483, 0.07500483, 0.07500483, 0.07500483,\n",
       "        0.07500483, 0.1948389 , 0.20297091, 0.07642396, 0.07573718]])"
      ]
     },
     "metadata": {},
     "output_type": "display_data"
    },
    {
     "data": {
      "text/plain": [
       "array([  0.,   0.,   0.,   0.,   0.,   0., 926.,  74.,   0.,   0.])"
      ]
     },
     "metadata": {},
     "output_type": "display_data"
    },
    {
     "data": {
      "image/png": "[encoded data removed]",
      "text/plain": [
       "<Figure size 640x480 with 1 Axes>"
      ]
     },
     "metadata": {},
     "output_type": "display_data"
    },
    {
     "name": "stderr",
     "output_type": "stream",
     "text": [
      "100%|██████████| 1000/1000 [00:14<00:00, 70.15it/s]\n"
     ]
    },
    {
     "data": {
      "text/plain": [
       "array([[0.07838507, 0.07531152, 0.07658166, 0.08360682, 0.07600404,\n",
       "        0.09634843, 0.0805073 , 0.07586351, 0.17776429, 0.17962733]])"
      ]
     },
     "metadata": {},
     "output_type": "display_data"
    },
    {
     "data": {
      "text/plain": [
       "array([ 16.,   0.,   8.,  25.,   5.,  49.,  29.,   1., 606., 261.])"
      ]
     },
     "metadata": {},
     "output_type": "display_data"
    },
    {
     "data": {
      "image/png": "[encoded data removed]",
      "text/plain": [
       "<Figure size 640x480 with 1 Axes>"
      ]
     },
     "metadata": {},
     "output_type": "display_data"
    },
    {
     "name": "stderr",
     "output_type": "stream",
     "text": [
      "100%|██████████| 1000/1000 [00:13<00:00, 72.01it/s]\n"
     ]
    },
    {
     "data": {
      "text/plain": [
       "array([[0.07368678, 0.07334664, 0.07448046, 0.07334664, 0.07381127,\n",
       "        0.07631449, 0.08279084, 0.07463175, 0.19826636, 0.19932473]])"
      ]
     },
     "metadata": {},
     "output_type": "display_data"
    },
    {
     "data": {
      "text/plain": [
       "array([  3.,   0.,  10.,   0.,   4.,  16.,  66.,   8., 855.,  38.])"
      ]
     },
     "metadata": {},
     "output_type": "display_data"
    },
    {
     "data": {
      "image/png": "[encoded data removed]",
      "text/plain": [
       "<Figure size 640x480 with 1 Axes>"
      ]
     },
     "metadata": {},
     "output_type": "display_data"
    }
   ],
   "source": [
    "num_validation = 1000\n",
    "test_cases = [\"man-1\", \"man-2\", \"man-3\", \"man-4\", \"man-5\", \"woman-1\", \"woman-2\", \"woman-3\", \"woman-4\", \"woman-5\"]\n",
    "from tqdm import tqdm\n",
    "print(len(dataset.voices))\n",
    "with torch.no_grad():\n",
    "  for test_index in range(len(dataset.voices)):\n",
    "    colors = [\"b\" if i != test_index else \"r\" for i in range(len(dataset.voices))]\n",
    "    avg = np.zeros((1, len(dataset.voices)))\n",
    "    occurrences = np.zeros(len(dataset.voices))\n",
    "    for i in tqdm(range(num_validation)):\n",
    "      t = load_voice(f\"./data/bark/{test_cases[test_index]}.wav\")\n",
    "      samples, targets = dataset.get_selected(t)\n",
    "      outputs = model(samples.to(device).unsqueeze(0), targets.to(device).unsqueeze(0))\n",
    "      avg += outputs.cpu().numpy()\n",
    "      occurrences[outputs.cpu().numpy().argmax()] += 1\n",
    "    display(avg / num_validation)\n",
    "    display(occurrences)\n",
    "    plt.bar(np.arange(len(dataset.voices)), occurrences, color=colors)\n",
    "    plt.xticks(range(len(dataset.voices)))\n",
    "    plt.xlabel(\"test_index\")\n",
    "    plt.ylabel(\"occurrence\")\n",
    "    plt.show()\n",
    "  # display(Audio(samples[0], rate=SAMPLE_RATE))\n",
    "  # display(Audio(targets[0], rate=SAMPLE_RATE))\n",
    "  # display(Audio(samples[1], rate=SAMPLE_RATE))\n",
    "  # display(Audio(targets[1], rate=SAMPLE_RATE))\n",
    "  # display(Audio(samples[2], rate=SAMPLE_RATE))\n",
    "  # display(Audio(targets[2], rate=SAMPLE_RATE))"
   ]
  },
  {
   "cell_type": "code",
   "execution_count": null,
   "metadata": {},
   "outputs": [],
   "source": [
    "torch.save(model,\"./checkpoints/model.pt\")"
   ]
  },
  {
   "cell_type": "code",
   "execution_count": null,
   "metadata": {},
   "outputs": [],
   "source": [
    "preload_models(use_smaller_models=True)"
   ]
  },
  {
   "cell_type": "code",
   "execution_count": null,
   "metadata": {},
   "outputs": [],
   "source": [
    "def generate(basename, raw_prompt, index):\n",
    "  basepath = \"./data/bark/\"\n",
    "  text_prompt = re.sub(r\"\\s\\s+\", \" \", re.sub(r\"[\\t\\n]\", \"\", raw_prompt)).strip()\n",
    "  print(f\"{basename}: prompt-{index}\")\n",
    "  audio_array, generation_data = generate_audio(text_prompt, basename)\n",
    "  if basename not in os.listdir(basepath): os.mkdir(f\"{basepath}/{basename}\")\n",
    "  save_history(f\"{basepath}/{basename}/prompt-{index}\", audio_array, text_prompt, generation_data)"
   ]
  },
  {
   "cell_type": "code",
   "execution_count": null,
   "metadata": {},
   "outputs": [],
   "source": [
    "with open(\"./prompts.json\") as fp: raw_prompts = json.load(fp)\n",
    "len(raw_prompts)"
   ]
  },
  {
   "cell_type": "code",
   "execution_count": null,
   "metadata": {},
   "outputs": [],
   "source": [
    "prompt = \"Bark was developed for research purposes. It is not a conventional text-to-speech model but instead a fully generative text-to-audio model, which can deviate in unexpected ways from provided prompts.\"\n",
    "audio_array, generation_data = generate_audio(prompt)\n",
    "Audio(audio_array, rate=SAMPLE_RATE)"
   ]
  },
  {
   "cell_type": "code",
   "execution_count": null,
   "metadata": {},
   "outputs": [],
   "source": [
    "save_history(\"./data/bark/woman-4\", audio_array, prompt, generation_data)"
   ]
  }
 ],
 "metadata": {
  "kernelspec": {
   "display_name": ".venv",
   "language": "python",
   "name": "python3"
  },
  "language_info": {
   "codemirror_mode": {
    "name": "ipython",
    "version": 3
   },
   "file_extension": ".py",
   "mimetype": "text/x-python",
   "name": "python",
   "nbconvert_exporter": "python",
   "pygments_lexer": "ipython3",
   "version": "3.10.8"
  },
  "orig_nbformat": 4
 },
 "nbformat": 4,
 "nbformat_minor": 2
}
